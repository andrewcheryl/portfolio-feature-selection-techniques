{
 "cells": [
  {
   "cell_type": "code",
   "execution_count": 2,
   "metadata": {},
   "outputs": [
    {
     "name": "stdout",
     "output_type": "stream",
     "text": [
      "/home/jovyan/Documents/dsi_plus/Projects/project_3 - Madelon_feature_selection\n"
     ]
    }
   ],
   "source": [
    "cd /home/jovyan/Documents/dsi_plus/Projects/project_3 - Madelon_feature_selection"
   ]
  },
  {
   "cell_type": "code",
   "execution_count": 3,
   "metadata": {},
   "outputs": [],
   "source": [
    "#Import standard modules\n",
    "%run lib/__init__.py\n",
    "%matplotlib inline"
   ]
  },
  {
   "cell_type": "markdown",
   "metadata": {},
   "source": [
    "### Project 3: Madelon Dataset - Feature Selection + Classification\n",
    "\n",
    "    \n",
    "### Step 4. Model implementation  - Samples\n",
    "\n",
    "Best Model\n",
    "\n",
    "Preprocessing:\n",
    "     - select features = []\n",
    "     - Test data has already been de-skewed, any new data would also need to go thourgh Box-Cox transformation ( log(x))\n",
    "     - normalize data using standard scaler\n",
    "     - model using KNeighborsClassifier(n_neighbors=9)"
   ]
  },
  {
   "cell_type": "code",
   "execution_count": 4,
   "metadata": {},
   "outputs": [],
   "source": [
    "pickle_f=Pickle_files()\n",
    "datafiles=pickle_f.read_datafiles()\n",
    "#datafiles"
   ]
  },
  {
   "cell_type": "code",
   "execution_count": 7,
   "metadata": {},
   "outputs": [],
   "source": [
    "def best_model(ds, mask):\n",
    "    \n",
    "    \n",
    "    X_train=pd.read_pickle(datafiles[ds][0])\n",
    "    y_train=pd.read_pickle(datafiles[ds][1])\n",
    "    X_test=pd.read_pickle(datafiles[ds][3])\n",
    "    y_test=pd.read_pickle(datafiles[ds][5])\n",
    "    #print(X_train.shape, y_train.shape)\n",
    "    #print(X_test.shape, y_test.shape)\n",
    "    \n",
    "    X_train=X_train[mask]\n",
    "    X_test=X_test[mask]\n",
    "    \n",
    "    print('masked data' ,X_train.shape, X_test.shape)\n",
    "    \n",
    "    pipe=Pipeline(steps=[('scaler' , StandardScaler()),\n",
    "                         ('clf' , KNeighborsClassifier(n_neighbors=9))\n",
    "                            ])\n",
    "     \n",
    "    param=({})\n",
    "    \n",
    "    grsCV=GridSearchCV(pipe,param,n_jobs=-1, verbose=1,\\\n",
    "                           cv=StratifiedShuffleSplit(n_splits=5, test_size=.2))\n",
    "                          \n",
    "    grsCV.fit(X_train,y_train.squeeze())\n",
    "    \n",
    "    test_score=grsCV.score(X_test,y_test.squeeze())\n",
    "    \n",
    "    results=grsCV.cv_results_\n",
    "    \n",
    "    return results , test_score\n"
   ]
  },
  {
   "cell_type": "code",
   "execution_count": 8,
   "metadata": {
    "scrolled": true
   },
   "outputs": [
    {
     "name": "stdout",
     "output_type": "stream",
     "text": [
      "masked data (9206, 10) (1842, 10)\n",
      "Fitting 5 folds for each of 1 candidates, totalling 5 fits\n",
      "CPU times: user 130 ms, sys: 120 ms, total: 250 ms\n",
      "Wall time: 880 ms\n"
     ]
    },
    {
     "name": "stderr",
     "output_type": "stream",
     "text": [
      "[Parallel(n_jobs=-1)]: Done   5 out of   5 | elapsed:    0.5s finished\n"
     ]
    }
   ],
   "source": [
    "%%time\n",
    "mask=[ 269, 315, 341, 681, 701, 736, 769, 808, 829, 920]\n",
    "results ,test_score= best_model('Sample1', mask)"
   ]
  },
  {
   "cell_type": "code",
   "execution_count": 9,
   "metadata": {},
   "outputs": [
    {
     "data": {
      "text/html": [
       "<div>\n",
       "<table border=\"1\" class=\"dataframe\">\n",
       "  <thead>\n",
       "    <tr style=\"text-align: right;\">\n",
       "      <th></th>\n",
       "      <th>mean_fit_time</th>\n",
       "      <th>mean_score_time</th>\n",
       "      <th>mean_test_score</th>\n",
       "      <th>mean_train_score</th>\n",
       "      <th>params</th>\n",
       "      <th>rank_test_score</th>\n",
       "      <th>split0_test_score</th>\n",
       "      <th>split0_train_score</th>\n",
       "      <th>split1_test_score</th>\n",
       "      <th>split1_train_score</th>\n",
       "      <th>split2_test_score</th>\n",
       "      <th>split2_train_score</th>\n",
       "      <th>split3_test_score</th>\n",
       "      <th>split3_train_score</th>\n",
       "      <th>split4_test_score</th>\n",
       "      <th>split4_train_score</th>\n",
       "      <th>std_fit_time</th>\n",
       "      <th>std_score_time</th>\n",
       "      <th>std_test_score</th>\n",
       "      <th>std_train_score</th>\n",
       "    </tr>\n",
       "  </thead>\n",
       "  <tbody>\n",
       "    <tr>\n",
       "      <th>0</th>\n",
       "      <td>0.031665</td>\n",
       "      <td>0.049031</td>\n",
       "      <td>0.814549</td>\n",
       "      <td>0.846904</td>\n",
       "      <td>{}</td>\n",
       "      <td>1</td>\n",
       "      <td>0.802932</td>\n",
       "      <td>0.849131</td>\n",
       "      <td>0.82139</td>\n",
       "      <td>0.844242</td>\n",
       "      <td>0.813789</td>\n",
       "      <td>0.848995</td>\n",
       "      <td>0.812704</td>\n",
       "      <td>0.847773</td>\n",
       "      <td>0.821933</td>\n",
       "      <td>0.844378</td>\n",
       "      <td>0.013653</td>\n",
       "      <td>0.00496</td>\n",
       "      <td>0.006932</td>\n",
       "      <td>0.00217</td>\n",
       "    </tr>\n",
       "  </tbody>\n",
       "</table>\n",
       "</div>"
      ],
      "text/plain": [
       "   mean_fit_time  mean_score_time  mean_test_score  mean_train_score params  \\\n",
       "0       0.031665         0.049031         0.814549          0.846904     {}   \n",
       "\n",
       "   rank_test_score  split0_test_score  split0_train_score  split1_test_score  \\\n",
       "0                1           0.802932            0.849131            0.82139   \n",
       "\n",
       "   split1_train_score  split2_test_score  split2_train_score  \\\n",
       "0            0.844242           0.813789            0.848995   \n",
       "\n",
       "   split3_test_score  split3_train_score  split4_test_score  \\\n",
       "0           0.812704            0.847773           0.821933   \n",
       "\n",
       "   split4_train_score  std_fit_time  std_score_time  std_test_score  \\\n",
       "0            0.844378      0.013653         0.00496        0.006932   \n",
       "\n",
       "   std_train_score  \n",
       "0          0.00217  "
      ]
     },
     "execution_count": 9,
     "metadata": {},
     "output_type": "execute_result"
    }
   ],
   "source": [
    "pd.DataFrame(results)"
   ]
  },
  {
   "cell_type": "code",
   "execution_count": 10,
   "metadata": {},
   "outputs": [
    {
     "data": {
      "text/plain": [
       "0.85287730727470146"
      ]
     },
     "execution_count": 10,
     "metadata": {},
     "output_type": "execute_result"
    }
   ],
   "source": [
    "test_score"
   ]
  },
  {
   "cell_type": "code",
   "execution_count": 11,
   "metadata": {},
   "outputs": [
    {
     "name": "stdout",
     "output_type": "stream",
     "text": [
      "masked data (9157, 10) (1832, 10)\n",
      "Fitting 5 folds for each of 1 candidates, totalling 5 fits\n"
     ]
    },
    {
     "name": "stderr",
     "output_type": "stream",
     "text": [
      "[Parallel(n_jobs=-1)]: Done   5 out of   5 | elapsed:    0.5s finished\n"
     ]
    }
   ],
   "source": [
    "results ,test_score= best_model('Sample2', mask)"
   ]
  },
  {
   "cell_type": "code",
   "execution_count": 12,
   "metadata": {},
   "outputs": [
    {
     "data": {
      "text/html": [
       "<div>\n",
       "<table border=\"1\" class=\"dataframe\">\n",
       "  <thead>\n",
       "    <tr style=\"text-align: right;\">\n",
       "      <th></th>\n",
       "      <th>mean_fit_time</th>\n",
       "      <th>mean_score_time</th>\n",
       "      <th>mean_test_score</th>\n",
       "      <th>mean_train_score</th>\n",
       "      <th>params</th>\n",
       "      <th>rank_test_score</th>\n",
       "      <th>split0_test_score</th>\n",
       "      <th>split0_train_score</th>\n",
       "      <th>split1_test_score</th>\n",
       "      <th>split1_train_score</th>\n",
       "      <th>split2_test_score</th>\n",
       "      <th>split2_train_score</th>\n",
       "      <th>split3_test_score</th>\n",
       "      <th>split3_train_score</th>\n",
       "      <th>split4_test_score</th>\n",
       "      <th>split4_train_score</th>\n",
       "      <th>std_fit_time</th>\n",
       "      <th>std_score_time</th>\n",
       "      <th>std_test_score</th>\n",
       "      <th>std_train_score</th>\n",
       "    </tr>\n",
       "  </thead>\n",
       "  <tbody>\n",
       "    <tr>\n",
       "      <th>0</th>\n",
       "      <td>0.021879</td>\n",
       "      <td>0.059794</td>\n",
       "      <td>0.80655</td>\n",
       "      <td>0.849392</td>\n",
       "      <td>{}</td>\n",
       "      <td>1</td>\n",
       "      <td>0.802402</td>\n",
       "      <td>0.848737</td>\n",
       "      <td>0.816594</td>\n",
       "      <td>0.84942</td>\n",
       "      <td>0.809498</td>\n",
       "      <td>0.848874</td>\n",
       "      <td>0.802948</td>\n",
       "      <td>0.850239</td>\n",
       "      <td>0.80131</td>\n",
       "      <td>0.849693</td>\n",
       "      <td>0.011477</td>\n",
       "      <td>0.013054</td>\n",
       "      <td>0.005783</td>\n",
       "      <td>0.000549</td>\n",
       "    </tr>\n",
       "  </tbody>\n",
       "</table>\n",
       "</div>"
      ],
      "text/plain": [
       "   mean_fit_time  mean_score_time  mean_test_score  mean_train_score params  \\\n",
       "0       0.021879         0.059794          0.80655          0.849392     {}   \n",
       "\n",
       "   rank_test_score  split0_test_score  split0_train_score  split1_test_score  \\\n",
       "0                1           0.802402            0.848737           0.816594   \n",
       "\n",
       "   split1_train_score  split2_test_score  split2_train_score  \\\n",
       "0             0.84942           0.809498            0.848874   \n",
       "\n",
       "   split3_test_score  split3_train_score  split4_test_score  \\\n",
       "0           0.802948            0.850239            0.80131   \n",
       "\n",
       "   split4_train_score  std_fit_time  std_score_time  std_test_score  \\\n",
       "0            0.849693      0.011477        0.013054        0.005783   \n",
       "\n",
       "   std_train_score  \n",
       "0         0.000549  "
      ]
     },
     "execution_count": 12,
     "metadata": {},
     "output_type": "execute_result"
    }
   ],
   "source": [
    "pd.DataFrame(results)"
   ]
  },
  {
   "cell_type": "code",
   "execution_count": 13,
   "metadata": {},
   "outputs": [
    {
     "data": {
      "text/plain": [
       "0.84606986899563319"
      ]
     },
     "execution_count": 13,
     "metadata": {},
     "output_type": "execute_result"
    }
   ],
   "source": [
    "test_score"
   ]
  },
  {
   "cell_type": "code",
   "execution_count": 14,
   "metadata": {},
   "outputs": [
    {
     "name": "stdout",
     "output_type": "stream",
     "text": [
      "masked data (9126, 10) (1826, 10)\n",
      "Fitting 5 folds for each of 1 candidates, totalling 5 fits\n"
     ]
    },
    {
     "name": "stderr",
     "output_type": "stream",
     "text": [
      "[Parallel(n_jobs=-1)]: Done   5 out of   5 | elapsed:    0.5s finished\n"
     ]
    }
   ],
   "source": [
    "results ,test_score= best_model('Sample3', mask)"
   ]
  },
  {
   "cell_type": "code",
   "execution_count": 15,
   "metadata": {},
   "outputs": [
    {
     "data": {
      "text/html": [
       "<div>\n",
       "<table border=\"1\" class=\"dataframe\">\n",
       "  <thead>\n",
       "    <tr style=\"text-align: right;\">\n",
       "      <th></th>\n",
       "      <th>mean_fit_time</th>\n",
       "      <th>mean_score_time</th>\n",
       "      <th>mean_test_score</th>\n",
       "      <th>mean_train_score</th>\n",
       "      <th>params</th>\n",
       "      <th>rank_test_score</th>\n",
       "      <th>split0_test_score</th>\n",
       "      <th>split0_train_score</th>\n",
       "      <th>split1_test_score</th>\n",
       "      <th>split1_train_score</th>\n",
       "      <th>split2_test_score</th>\n",
       "      <th>split2_train_score</th>\n",
       "      <th>split3_test_score</th>\n",
       "      <th>split3_train_score</th>\n",
       "      <th>split4_test_score</th>\n",
       "      <th>split4_train_score</th>\n",
       "      <th>std_fit_time</th>\n",
       "      <th>std_score_time</th>\n",
       "      <th>std_test_score</th>\n",
       "      <th>std_train_score</th>\n",
       "    </tr>\n",
       "  </thead>\n",
       "  <tbody>\n",
       "    <tr>\n",
       "      <th>0</th>\n",
       "      <td>0.020062</td>\n",
       "      <td>0.054137</td>\n",
       "      <td>0.813363</td>\n",
       "      <td>0.856493</td>\n",
       "      <td>{}</td>\n",
       "      <td>1</td>\n",
       "      <td>0.813801</td>\n",
       "      <td>0.857671</td>\n",
       "      <td>0.809967</td>\n",
       "      <td>0.857808</td>\n",
       "      <td>0.804491</td>\n",
       "      <td>0.856986</td>\n",
       "      <td>0.821468</td>\n",
       "      <td>0.858219</td>\n",
       "      <td>0.817087</td>\n",
       "      <td>0.851781</td>\n",
       "      <td>0.013024</td>\n",
       "      <td>0.011394</td>\n",
       "      <td>0.005831</td>\n",
       "      <td>0.002389</td>\n",
       "    </tr>\n",
       "  </tbody>\n",
       "</table>\n",
       "</div>"
      ],
      "text/plain": [
       "   mean_fit_time  mean_score_time  mean_test_score  mean_train_score params  \\\n",
       "0       0.020062         0.054137         0.813363          0.856493     {}   \n",
       "\n",
       "   rank_test_score  split0_test_score  split0_train_score  split1_test_score  \\\n",
       "0                1           0.813801            0.857671           0.809967   \n",
       "\n",
       "   split1_train_score  split2_test_score  split2_train_score  \\\n",
       "0            0.857808           0.804491            0.856986   \n",
       "\n",
       "   split3_test_score  split3_train_score  split4_test_score  \\\n",
       "0           0.821468            0.858219           0.817087   \n",
       "\n",
       "   split4_train_score  std_fit_time  std_score_time  std_test_score  \\\n",
       "0            0.851781      0.013024        0.011394        0.005831   \n",
       "\n",
       "   std_train_score  \n",
       "0         0.002389  "
      ]
     },
     "execution_count": 15,
     "metadata": {},
     "output_type": "execute_result"
    }
   ],
   "source": [
    "pd.DataFrame(results)"
   ]
  },
  {
   "cell_type": "code",
   "execution_count": 16,
   "metadata": {},
   "outputs": [
    {
     "data": {
      "text/plain": [
       "0.86144578313253017"
      ]
     },
     "execution_count": 16,
     "metadata": {},
     "output_type": "execute_result"
    }
   ],
   "source": [
    "test_score"
   ]
  },
  {
   "cell_type": "code",
   "execution_count": null,
   "metadata": {},
   "outputs": [],
   "source": []
  }
 ],
 "metadata": {
  "kernelspec": {
   "display_name": "Python 3",
   "language": "python",
   "name": "python3"
  },
  "language_info": {
   "codemirror_mode": {
    "name": "ipython",
    "version": 3
   },
   "file_extension": ".py",
   "mimetype": "text/x-python",
   "name": "python",
   "nbconvert_exporter": "python",
   "pygments_lexer": "ipython3",
   "version": "3.6.2"
  }
 },
 "nbformat": 4,
 "nbformat_minor": 2
}
