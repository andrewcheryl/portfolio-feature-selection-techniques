{
 "cells": [
  {
   "cell_type": "code",
   "execution_count": 1,
   "metadata": {},
   "outputs": [
    {
     "name": "stdout",
     "output_type": "stream",
     "text": [
      "/home/jovyan/Documents/dsi_plus/Projects/project_3 - Madelon_feature_selection\n"
     ]
    }
   ],
   "source": [
    "cd /home/jovyan/Documents/dsi_plus/Projects/project_3 - Madelon_feature_selection"
   ]
  },
  {
   "cell_type": "code",
   "execution_count": 2,
   "metadata": {},
   "outputs": [],
   "source": [
    "#Import standard modules\n",
    "%run lib/__init__.py\n",
    "%matplotlib inline"
   ]
  },
  {
   "cell_type": "markdown",
   "metadata": {},
   "source": [
    "### Project 3: Madelon Dataset - Feature Selection + Classification\n",
    "\n",
    "## Step 2. Feature Selection - SFM (SelectFromModel)\n",
    "\n",
    "Hyperparameters:\n",
    "* Esimator = LassoCV - Lasso linear model with iterative fitting along a regularization path\n",
    "      * include a range of values for c in gridsearch. Small c = high regularisation.\n",
    "* Threshold = A string, float, optional default None. The threshold value to use for feature selection. \n",
    "      * include a range of values for the threshold in the gridsearch. \n",
    "      * A low threshold = highly regularised model => high penalty for betas as we decrease regularisation strenght (c) threshold increases as lower penalty on betas. If the threshold is too low the model will not beable to find coeffs and will stop.\n",
    "\n",
    "Use a StratifiedShuffleSplit from the gridsearch crossfolds, this ensures that relative class frequencies are approximately preserved in each train and validation fold."
   ]
  },
  {
   "cell_type": "code",
   "execution_count": 3,
   "metadata": {},
   "outputs": [],
   "source": [
    "random.seed(42)"
   ]
  },
  {
   "cell_type": "code",
   "execution_count": 4,
   "metadata": {},
   "outputs": [],
   "source": [
    "#Load files names for datasets\n",
    "pickle_files=Pickle_files()\n",
    "datafiles=pickle_files.read_datafiles()"
   ]
  },
  {
   "cell_type": "code",
   "execution_count": 190,
   "metadata": {},
   "outputs": [],
   "source": [
    "#List of classifiers to use for scoring selection\n",
    "Classifiers={'SFM_KNN':KNeighborsClassifier(),'SFM_LR': LogisticRegression(C=100),\\\n",
    "             'SFM_DT': DecisionTreeClassifier(), 'SFM_SVC':SVC()}\n",
    "XClassifiers={'SFM_LR': LogisticRegression(C=100, random_state=42)}"
   ]
  },
  {
   "cell_type": "code",
   "execution_count": 170,
   "metadata": {},
   "outputs": [],
   "source": [
    "def sfm_pipeline(ds,Classifiers, paramG,datafiles=datafiles ):\n",
    "    ''' \n",
    "    Pipline to find best features using SelectFromModel with LogisticRegression estimator\n",
    "    '''\n",
    "    X=pd.read_pickle(datafiles[ds][2])\n",
    "    y=pd.read_pickle(datafiles[ds][4])\n",
    "    print(datafiles[ds][2],X.shape, datafiles[ds][4],y.shape)\n",
    "    \n",
    "    results=[]\n",
    "    \n",
    "    for n,model in tqdm(Classifiers.items()):   \n",
    "       \n",
    "        \n",
    "        pipe=Pipeline(steps=[\n",
    "                                ('scaler' , StandardScaler()),\n",
    "                                ('sfm' , SelectFromModel(LogisticRegression(penalty='l1',solver='liblinear'))),\n",
    "                                ('clf' ,model)\n",
    "                               ])\n",
    "    \n",
    "        param=paramG\n",
    "\n",
    "        grsCV=GridSearchCV(pipe,param,n_jobs=-1, verbose=1,\\\n",
    "                           cv=StratifiedShuffleSplit(n_splits=5, test_size=.2))\n",
    "       \n",
    "        grsCV.fit(X,y.squeeze())\n",
    "        \n",
    "        \n",
    "        sfm_support=grsCV.best_estimator_.named_steps['sfm'].get_support()\n",
    "        \n",
    "        results_n={ 'dataset' : ds,\n",
    "                    'model'  : n,\n",
    "                    'best_test_score' : grsCV.best_score_,\n",
    "                    'best_params' : grsCV.best_params_ , \n",
    "                    'featSelect' : np.where(sfm_support)[0], \n",
    "                    'n_featSelect' : np.sum(sfm_support)\n",
    "                    }\n",
    "        results.append(results_n)\n",
    "    \n",
    "        \n",
    "    results_df=pd.DataFrame(results)\n",
    "    \n",
    "    return results_df"
   ]
  },
  {
   "cell_type": "markdown",
   "metadata": {},
   "source": [
    "### SFM FOR UCI DATASET"
   ]
  },
  {
   "cell_type": "code",
   "execution_count": 171,
   "metadata": {},
   "outputs": [],
   "source": [
    "UCI_param=({'sfm__threshold': [.25,.3,.4,.45,.5,.6] ,\n",
    "            'sfm__estimator': [LogisticRegression(C=c) for c in np.logspace(1,3,3)]})"
   ]
  },
  {
   "cell_type": "code",
   "execution_count": 175,
   "metadata": {},
   "outputs": [
    {
     "name": "stderr",
     "output_type": "stream",
     "text": [
      "\r",
      "  0%|          | 0/4 [00:00<?, ?it/s]"
     ]
    },
    {
     "name": "stdout",
     "output_type": "stream",
     "text": [
      "./data/pickle_data/UCI_X_train (2080, 500) ./data/pickle_data/UCI_y_train (2080, 1)\n",
      "Fitting 5 folds for each of 18 candidates, totalling 90 fits\n"
     ]
    },
    {
     "name": "stderr",
     "output_type": "stream",
     "text": [
      "[Parallel(n_jobs=-1)]: Done  42 tasks      | elapsed:    5.1s\n",
      "[Parallel(n_jobs=-1)]: Done  90 out of  90 | elapsed:   10.9s finished\n",
      " 25%|██▌       | 1/4 [00:11<00:34, 11.34s/it]"
     ]
    },
    {
     "name": "stdout",
     "output_type": "stream",
     "text": [
      "Fitting 5 folds for each of 18 candidates, totalling 90 fits\n"
     ]
    },
    {
     "name": "stderr",
     "output_type": "stream",
     "text": [
      "[Parallel(n_jobs=-1)]: Done  42 tasks      | elapsed:    5.6s\n",
      "[Parallel(n_jobs=-1)]: Done  90 out of  90 | elapsed:   12.0s finished\n",
      " 50%|█████     | 2/4 [00:23<00:23, 11.95s/it]"
     ]
    },
    {
     "name": "stdout",
     "output_type": "stream",
     "text": [
      "Fitting 5 folds for each of 18 candidates, totalling 90 fits\n"
     ]
    },
    {
     "name": "stderr",
     "output_type": "stream",
     "text": [
      "[Parallel(n_jobs=-1)]: Done  42 tasks      | elapsed:    5.7s\n",
      "[Parallel(n_jobs=-1)]: Done  90 out of  90 | elapsed:   11.4s finished\n",
      " 75%|███████▌  | 3/4 [00:35<00:11, 11.92s/it]"
     ]
    },
    {
     "name": "stdout",
     "output_type": "stream",
     "text": [
      "Fitting 5 folds for each of 18 candidates, totalling 90 fits\n"
     ]
    },
    {
     "name": "stderr",
     "output_type": "stream",
     "text": [
      "[Parallel(n_jobs=-1)]: Done  42 tasks      | elapsed:    6.4s\n",
      "[Parallel(n_jobs=-1)]: Done  90 out of  90 | elapsed:   13.2s finished\n",
      "100%|██████████| 4/4 [00:49<00:00, 12.38s/it]"
     ]
    },
    {
     "name": "stdout",
     "output_type": "stream",
     "text": [
      "CPU times: user 6.99 s, sys: 620 ms, total: 7.61 s\n",
      "Wall time: 49.6 s\n"
     ]
    },
    {
     "name": "stderr",
     "output_type": "stream",
     "text": [
      "\n"
     ]
    }
   ],
   "source": [
    "%%time\n",
    "UCI_results_df=sfm_pipeline('UCI',Classifiers, UCI_param)"
   ]
  },
  {
   "cell_type": "code",
   "execution_count": 176,
   "metadata": {},
   "outputs": [
    {
     "data": {
      "text/html": [
       "<div>\n",
       "<table border=\"1\" class=\"dataframe\">\n",
       "  <thead>\n",
       "    <tr style=\"text-align: right;\">\n",
       "      <th></th>\n",
       "      <th>best_params</th>\n",
       "      <th>best_test_score</th>\n",
       "      <th>dataset</th>\n",
       "      <th>featSelect</th>\n",
       "      <th>model</th>\n",
       "      <th>n_featSelect</th>\n",
       "    </tr>\n",
       "  </thead>\n",
       "  <tbody>\n",
       "    <tr>\n",
       "      <th>0</th>\n",
       "      <td>{'sfm__estimator': LogisticRegression(C=1000.0...</td>\n",
       "      <td>0.886058</td>\n",
       "      <td>UCI</td>\n",
       "      <td>[28, 48, 105, 128, 281, 318, 336, 338, 378, 43...</td>\n",
       "      <td>SFM_KNN</td>\n",
       "      <td>11</td>\n",
       "    </tr>\n",
       "    <tr>\n",
       "      <th>1</th>\n",
       "      <td>{'sfm__estimator': LogisticRegression(C=100.0,...</td>\n",
       "      <td>0.605769</td>\n",
       "      <td>UCI</td>\n",
       "      <td>[48, 105, 128, 281, 318, 338, 378, 433, 451]</td>\n",
       "      <td>SFM_LR</td>\n",
       "      <td>9</td>\n",
       "    </tr>\n",
       "    <tr>\n",
       "      <th>2</th>\n",
       "      <td>{'sfm__estimator': LogisticRegression(C=100.0,...</td>\n",
       "      <td>0.820192</td>\n",
       "      <td>UCI</td>\n",
       "      <td>[28, 48, 105, 128, 281, 318, 336, 338, 378, 43...</td>\n",
       "      <td>SFM_DT</td>\n",
       "      <td>11</td>\n",
       "    </tr>\n",
       "    <tr>\n",
       "      <th>3</th>\n",
       "      <td>{'sfm__estimator': LogisticRegression(C=100.0,...</td>\n",
       "      <td>0.862500</td>\n",
       "      <td>UCI</td>\n",
       "      <td>[28, 48, 105, 128, 281, 318, 336, 338, 378, 43...</td>\n",
       "      <td>SFM_SVC</td>\n",
       "      <td>11</td>\n",
       "    </tr>\n",
       "  </tbody>\n",
       "</table>\n",
       "</div>"
      ],
      "text/plain": [
       "                                         best_params  best_test_score dataset  \\\n",
       "0  {'sfm__estimator': LogisticRegression(C=1000.0...         0.886058     UCI   \n",
       "1  {'sfm__estimator': LogisticRegression(C=100.0,...         0.605769     UCI   \n",
       "2  {'sfm__estimator': LogisticRegression(C=100.0,...         0.820192     UCI   \n",
       "3  {'sfm__estimator': LogisticRegression(C=100.0,...         0.862500     UCI   \n",
       "\n",
       "                                          featSelect    model  n_featSelect  \n",
       "0  [28, 48, 105, 128, 281, 318, 336, 338, 378, 43...  SFM_KNN            11  \n",
       "1       [48, 105, 128, 281, 318, 338, 378, 433, 451]   SFM_LR             9  \n",
       "2  [28, 48, 105, 128, 281, 318, 336, 338, 378, 43...   SFM_DT            11  \n",
       "3  [28, 48, 105, 128, 281, 318, 336, 338, 378, 43...  SFM_SVC            11  "
      ]
     },
     "execution_count": 176,
     "metadata": {},
     "output_type": "execute_result"
    }
   ],
   "source": [
    "UCI_results_df"
   ]
  },
  {
   "cell_type": "code",
   "execution_count": 178,
   "metadata": {},
   "outputs": [
    {
     "data": {
      "text/plain": [
       "{'sfm__estimator': LogisticRegression(C=1000.0, class_weight=None, dual=False,\n",
       "           fit_intercept=True, intercept_scaling=1, max_iter=100,\n",
       "           multi_class='ovr', n_jobs=1, penalty='l2', random_state=None,\n",
       "           solver='liblinear', tol=0.0001, verbose=0, warm_start=False),\n",
       " 'sfm__threshold': 0.4}"
      ]
     },
     "execution_count": 178,
     "metadata": {},
     "output_type": "execute_result"
    }
   ],
   "source": [
    "UCI_results_df.best_params[0]"
   ]
  },
  {
   "cell_type": "code",
   "execution_count": 180,
   "metadata": {},
   "outputs": [],
   "source": [
    "UCI_results_df.to_pickle('./data/pickle_data/UCI_bestfeatures_sfm')"
   ]
  },
  {
   "cell_type": "markdown",
   "metadata": {},
   "source": [
    "### SFM FOR POSTGRES SAMPLES"
   ]
  },
  {
   "cell_type": "markdown",
   "metadata": {},
   "source": [
    "#### Sample 1"
   ]
  },
  {
   "cell_type": "code",
   "execution_count": 186,
   "metadata": {},
   "outputs": [],
   "source": [
    "Sample1_param=({'sfm__threshold': [.25,.4,.5,.6] ,\n",
    "            'sfm__estimator': [LogisticRegression(C=c) for c in np.logspace(1,3,3)]})"
   ]
  },
  {
   "cell_type": "code",
   "execution_count": 187,
   "metadata": {},
   "outputs": [
    {
     "name": "stderr",
     "output_type": "stream",
     "text": [
      "\r",
      "  0%|          | 0/4 [00:00<?, ?it/s]"
     ]
    },
    {
     "name": "stdout",
     "output_type": "stream",
     "text": [
      "./data/pickle_data/Sample1_X_train (7364, 1000) ./data/pickle_data/Sample1_y_train (7364,)\n",
      "Fitting 5 folds for each of 12 candidates, totalling 60 fits\n"
     ]
    },
    {
     "name": "stderr",
     "output_type": "stream",
     "text": [
      "[Parallel(n_jobs=-1)]: Done  42 tasks      | elapsed:  2.4min\n",
      "[Parallel(n_jobs=-1)]: Done  60 out of  60 | elapsed:  4.2min finished\n",
      " 25%|██▌       | 1/4 [04:19<12:57, 259.20s/it]"
     ]
    },
    {
     "name": "stdout",
     "output_type": "stream",
     "text": [
      "Fitting 5 folds for each of 12 candidates, totalling 60 fits\n"
     ]
    },
    {
     "name": "stderr",
     "output_type": "stream",
     "text": [
      "[Parallel(n_jobs=-1)]: Done  42 tasks      | elapsed:  2.2min\n",
      "[Parallel(n_jobs=-1)]: Done  60 out of  60 | elapsed:  4.0min finished\n",
      " 50%|█████     | 2/4 [08:28<08:28, 254.08s/it]"
     ]
    },
    {
     "name": "stdout",
     "output_type": "stream",
     "text": [
      "Fitting 5 folds for each of 12 candidates, totalling 60 fits\n"
     ]
    },
    {
     "name": "stderr",
     "output_type": "stream",
     "text": [
      "[Parallel(n_jobs=-1)]: Done  42 tasks      | elapsed:  2.3min\n",
      "[Parallel(n_jobs=-1)]: Done  60 out of  60 | elapsed:  3.9min finished\n",
      " 75%|███████▌  | 3/4 [12:34<04:11, 251.43s/it]"
     ]
    },
    {
     "name": "stdout",
     "output_type": "stream",
     "text": [
      "Fitting 5 folds for each of 12 candidates, totalling 60 fits\n"
     ]
    },
    {
     "name": "stderr",
     "output_type": "stream",
     "text": [
      "[Parallel(n_jobs=-1)]: Done  42 tasks      | elapsed:  2.6min\n",
      "[Parallel(n_jobs=-1)]: Done  60 out of  60 | elapsed:  4.5min finished\n",
      "100%|██████████| 4/4 [17:13<00:00, 258.41s/it]"
     ]
    },
    {
     "name": "stdout",
     "output_type": "stream",
     "text": [
      "CPU times: user 1min 4s, sys: 1.16 s, total: 1min 5s\n",
      "Wall time: 17min 13s\n"
     ]
    },
    {
     "name": "stderr",
     "output_type": "stream",
     "text": [
      "\n"
     ]
    }
   ],
   "source": [
    "%%time\n",
    "Sample1_results_df =sfm_pipeline('Sample1',Classifiers, Sample1_param)"
   ]
  },
  {
   "cell_type": "code",
   "execution_count": 188,
   "metadata": {},
   "outputs": [
    {
     "data": {
      "text/html": [
       "<div>\n",
       "<table border=\"1\" class=\"dataframe\">\n",
       "  <thead>\n",
       "    <tr style=\"text-align: right;\">\n",
       "      <th></th>\n",
       "      <th>best_params</th>\n",
       "      <th>best_test_score</th>\n",
       "      <th>dataset</th>\n",
       "      <th>featSelect</th>\n",
       "      <th>model</th>\n",
       "      <th>n_featSelect</th>\n",
       "    </tr>\n",
       "  </thead>\n",
       "  <tbody>\n",
       "    <tr>\n",
       "      <th>0</th>\n",
       "      <td>{'sfm__estimator': LogisticRegression(C=100.0,...</td>\n",
       "      <td>0.805974</td>\n",
       "      <td>Sample1</td>\n",
       "      <td>[257, 269, 308, 315, 336, 341, 395, 504, 526, ...</td>\n",
       "      <td>SFM_KNN</td>\n",
       "      <td>20</td>\n",
       "    </tr>\n",
       "    <tr>\n",
       "      <th>1</th>\n",
       "      <td>{'sfm__estimator': LogisticRegression(C=100.0,...</td>\n",
       "      <td>0.679701</td>\n",
       "      <td>Sample1</td>\n",
       "      <td>[257, 269, 308, 315, 336, 341, 395, 504, 526, ...</td>\n",
       "      <td>SFM_LR</td>\n",
       "      <td>20</td>\n",
       "    </tr>\n",
       "    <tr>\n",
       "      <th>2</th>\n",
       "      <td>{'sfm__estimator': LogisticRegression(C=100.0,...</td>\n",
       "      <td>0.725866</td>\n",
       "      <td>Sample1</td>\n",
       "      <td>[257, 269, 308, 315, 336, 341, 395, 504, 526, ...</td>\n",
       "      <td>SFM_DT</td>\n",
       "      <td>20</td>\n",
       "    </tr>\n",
       "    <tr>\n",
       "      <th>3</th>\n",
       "      <td>{'sfm__estimator': LogisticRegression(C=100.0,...</td>\n",
       "      <td>0.755872</td>\n",
       "      <td>Sample1</td>\n",
       "      <td>[257, 269, 308, 315, 336, 341, 395, 504, 526, ...</td>\n",
       "      <td>SFM_SVC</td>\n",
       "      <td>20</td>\n",
       "    </tr>\n",
       "  </tbody>\n",
       "</table>\n",
       "</div>"
      ],
      "text/plain": [
       "                                         best_params  best_test_score  \\\n",
       "0  {'sfm__estimator': LogisticRegression(C=100.0,...         0.805974   \n",
       "1  {'sfm__estimator': LogisticRegression(C=100.0,...         0.679701   \n",
       "2  {'sfm__estimator': LogisticRegression(C=100.0,...         0.725866   \n",
       "3  {'sfm__estimator': LogisticRegression(C=100.0,...         0.755872   \n",
       "\n",
       "   dataset                                         featSelect    model  \\\n",
       "0  Sample1  [257, 269, 308, 315, 336, 341, 395, 504, 526, ...  SFM_KNN   \n",
       "1  Sample1  [257, 269, 308, 315, 336, 341, 395, 504, 526, ...   SFM_LR   \n",
       "2  Sample1  [257, 269, 308, 315, 336, 341, 395, 504, 526, ...   SFM_DT   \n",
       "3  Sample1  [257, 269, 308, 315, 336, 341, 395, 504, 526, ...  SFM_SVC   \n",
       "\n",
       "   n_featSelect  \n",
       "0            20  \n",
       "1            20  \n",
       "2            20  \n",
       "3            20  "
      ]
     },
     "execution_count": 188,
     "metadata": {},
     "output_type": "execute_result"
    }
   ],
   "source": [
    "Sample1_results_df "
   ]
  },
  {
   "cell_type": "code",
   "execution_count": 189,
   "metadata": {},
   "outputs": [
    {
     "data": {
      "text/plain": [
       "{'sfm__estimator': LogisticRegression(C=100.0, class_weight=None, dual=False, fit_intercept=True,\n",
       "           intercept_scaling=1, max_iter=100, multi_class='ovr', n_jobs=1,\n",
       "           penalty='l2', random_state=None, solver='liblinear', tol=0.0001,\n",
       "           verbose=0, warm_start=False), 'sfm__threshold': 0.4}"
      ]
     },
     "execution_count": 189,
     "metadata": {},
     "output_type": "execute_result"
    }
   ],
   "source": [
    "Sample1_results_df.best_params[0]"
   ]
  },
  {
   "cell_type": "markdown",
   "metadata": {},
   "source": [
    "#### Sample 2"
   ]
  },
  {
   "cell_type": "code",
   "execution_count": 191,
   "metadata": {},
   "outputs": [
    {
     "name": "stderr",
     "output_type": "stream",
     "text": [
      "\r",
      "  0%|          | 0/4 [00:00<?, ?it/s]"
     ]
    },
    {
     "name": "stdout",
     "output_type": "stream",
     "text": [
      "./data/pickle_data/Sample2_X_train (7325, 1000) ./data/pickle_data/Sample2_y_train (7325,)\n",
      "Fitting 5 folds for each of 12 candidates, totalling 60 fits\n"
     ]
    },
    {
     "name": "stderr",
     "output_type": "stream",
     "text": [
      "[Parallel(n_jobs=-1)]: Done  42 tasks      | elapsed:  2.4min\n",
      "[Parallel(n_jobs=-1)]: Done  60 out of  60 | elapsed:  4.5min finished\n",
      " 25%|██▌       | 1/4 [04:33<13:40, 273.43s/it]"
     ]
    },
    {
     "name": "stdout",
     "output_type": "stream",
     "text": [
      "Fitting 5 folds for each of 12 candidates, totalling 60 fits\n"
     ]
    },
    {
     "name": "stderr",
     "output_type": "stream",
     "text": [
      "[Parallel(n_jobs=-1)]: Done  42 tasks      | elapsed:  2.5min\n",
      "[Parallel(n_jobs=-1)]: Done  60 out of  60 | elapsed:  4.6min finished\n",
      " 50%|█████     | 2/4 [09:21<09:21, 280.65s/it]"
     ]
    },
    {
     "name": "stdout",
     "output_type": "stream",
     "text": [
      "Fitting 5 folds for each of 12 candidates, totalling 60 fits\n"
     ]
    },
    {
     "name": "stderr",
     "output_type": "stream",
     "text": [
      "[Parallel(n_jobs=-1)]: Done  42 tasks      | elapsed:  2.5min\n",
      "[Parallel(n_jobs=-1)]: Done  60 out of  60 | elapsed:  4.7min finished\n",
      " 75%|███████▌  | 3/4 [14:24<04:48, 288.23s/it]"
     ]
    },
    {
     "name": "stdout",
     "output_type": "stream",
     "text": [
      "Fitting 5 folds for each of 12 candidates, totalling 60 fits\n"
     ]
    },
    {
     "name": "stderr",
     "output_type": "stream",
     "text": [
      "[Parallel(n_jobs=-1)]: Done  42 tasks      | elapsed:  2.8min\n",
      "[Parallel(n_jobs=-1)]: Done  60 out of  60 | elapsed:  4.9min finished\n",
      "100%|██████████| 4/4 [19:33<00:00, 293.48s/it]"
     ]
    },
    {
     "name": "stdout",
     "output_type": "stream",
     "text": [
      "CPU times: user 1min 14s, sys: 1.47 s, total: 1min 16s\n",
      "Wall time: 19min 34s\n"
     ]
    },
    {
     "name": "stderr",
     "output_type": "stream",
     "text": [
      "\n"
     ]
    }
   ],
   "source": [
    "%%time\n",
    "Sample2_results_df =sfm_pipeline('Sample2',Classifiers, Sample1_param)"
   ]
  },
  {
   "cell_type": "code",
   "execution_count": 192,
   "metadata": {},
   "outputs": [
    {
     "data": {
      "text/html": [
       "<div>\n",
       "<table border=\"1\" class=\"dataframe\">\n",
       "  <thead>\n",
       "    <tr style=\"text-align: right;\">\n",
       "      <th></th>\n",
       "      <th>best_params</th>\n",
       "      <th>best_test_score</th>\n",
       "      <th>dataset</th>\n",
       "      <th>featSelect</th>\n",
       "      <th>model</th>\n",
       "      <th>n_featSelect</th>\n",
       "    </tr>\n",
       "  </thead>\n",
       "  <tbody>\n",
       "    <tr>\n",
       "      <th>0</th>\n",
       "      <td>{'sfm__estimator': LogisticRegression(C=10.0, ...</td>\n",
       "      <td>0.789898</td>\n",
       "      <td>Sample2</td>\n",
       "      <td>[257, 269, 315, 336, 341, 395, 504, 526, 639, ...</td>\n",
       "      <td>SFM_KNN</td>\n",
       "      <td>18</td>\n",
       "    </tr>\n",
       "    <tr>\n",
       "      <th>1</th>\n",
       "      <td>{'sfm__estimator': LogisticRegression(C=100.0,...</td>\n",
       "      <td>0.683686</td>\n",
       "      <td>Sample2</td>\n",
       "      <td>[257, 269, 308, 315, 336, 341, 395, 504, 526, ...</td>\n",
       "      <td>SFM_LR</td>\n",
       "      <td>20</td>\n",
       "    </tr>\n",
       "    <tr>\n",
       "      <th>2</th>\n",
       "      <td>{'sfm__estimator': LogisticRegression(C=1000.0...</td>\n",
       "      <td>0.726826</td>\n",
       "      <td>Sample2</td>\n",
       "      <td>[257, 269, 308, 315, 336, 341, 395, 504, 526, ...</td>\n",
       "      <td>SFM_DT</td>\n",
       "      <td>20</td>\n",
       "    </tr>\n",
       "    <tr>\n",
       "      <th>3</th>\n",
       "      <td>{'sfm__estimator': LogisticRegression(C=100.0,...</td>\n",
       "      <td>0.765188</td>\n",
       "      <td>Sample2</td>\n",
       "      <td>[257, 269, 308, 315, 336, 341, 395, 504, 526, ...</td>\n",
       "      <td>SFM_SVC</td>\n",
       "      <td>20</td>\n",
       "    </tr>\n",
       "  </tbody>\n",
       "</table>\n",
       "</div>"
      ],
      "text/plain": [
       "                                         best_params  best_test_score  \\\n",
       "0  {'sfm__estimator': LogisticRegression(C=10.0, ...         0.789898   \n",
       "1  {'sfm__estimator': LogisticRegression(C=100.0,...         0.683686   \n",
       "2  {'sfm__estimator': LogisticRegression(C=1000.0...         0.726826   \n",
       "3  {'sfm__estimator': LogisticRegression(C=100.0,...         0.765188   \n",
       "\n",
       "   dataset                                         featSelect    model  \\\n",
       "0  Sample2  [257, 269, 315, 336, 341, 395, 504, 526, 639, ...  SFM_KNN   \n",
       "1  Sample2  [257, 269, 308, 315, 336, 341, 395, 504, 526, ...   SFM_LR   \n",
       "2  Sample2  [257, 269, 308, 315, 336, 341, 395, 504, 526, ...   SFM_DT   \n",
       "3  Sample2  [257, 269, 308, 315, 336, 341, 395, 504, 526, ...  SFM_SVC   \n",
       "\n",
       "   n_featSelect  \n",
       "0            18  \n",
       "1            20  \n",
       "2            20  \n",
       "3            20  "
      ]
     },
     "execution_count": 192,
     "metadata": {},
     "output_type": "execute_result"
    }
   ],
   "source": [
    "Sample2_results_df "
   ]
  },
  {
   "cell_type": "markdown",
   "metadata": {},
   "source": [
    "#### Sample 3"
   ]
  },
  {
   "cell_type": "code",
   "execution_count": 193,
   "metadata": {},
   "outputs": [
    {
     "name": "stderr",
     "output_type": "stream",
     "text": [
      "\r",
      "  0%|          | 0/4 [00:00<?, ?it/s]"
     ]
    },
    {
     "name": "stdout",
     "output_type": "stream",
     "text": [
      "./data/pickle_data/Sample3_X_train (7300, 1000) ./data/pickle_data/Sample3_y_train (7300,)\n",
      "Fitting 5 folds for each of 12 candidates, totalling 60 fits\n"
     ]
    },
    {
     "name": "stderr",
     "output_type": "stream",
     "text": [
      "[Parallel(n_jobs=-1)]: Done  42 tasks      | elapsed:  2.4min\n",
      "[Parallel(n_jobs=-1)]: Done  60 out of  60 | elapsed:  4.2min finished\n",
      " 25%|██▌       | 1/4 [04:24<13:14, 264.96s/it]"
     ]
    },
    {
     "name": "stdout",
     "output_type": "stream",
     "text": [
      "Fitting 5 folds for each of 12 candidates, totalling 60 fits\n"
     ]
    },
    {
     "name": "stderr",
     "output_type": "stream",
     "text": [
      "[Parallel(n_jobs=-1)]: Done  42 tasks      | elapsed:  2.5min\n",
      "[Parallel(n_jobs=-1)]: Done  60 out of  60 | elapsed:  4.4min finished\n",
      " 50%|█████     | 2/4 [09:01<09:01, 270.57s/it]"
     ]
    },
    {
     "name": "stdout",
     "output_type": "stream",
     "text": [
      "Fitting 5 folds for each of 12 candidates, totalling 60 fits\n"
     ]
    },
    {
     "name": "stderr",
     "output_type": "stream",
     "text": [
      "[Parallel(n_jobs=-1)]: Done  42 tasks      | elapsed:  2.4min\n",
      "[Parallel(n_jobs=-1)]: Done  60 out of  60 | elapsed:  4.4min finished\n",
      " 75%|███████▌  | 3/4 [13:37<04:32, 272.67s/it]"
     ]
    },
    {
     "name": "stdout",
     "output_type": "stream",
     "text": [
      "Fitting 5 folds for each of 12 candidates, totalling 60 fits\n"
     ]
    },
    {
     "name": "stderr",
     "output_type": "stream",
     "text": [
      "[Parallel(n_jobs=-1)]: Done  42 tasks      | elapsed:  2.7min\n",
      "[Parallel(n_jobs=-1)]: Done  60 out of  60 | elapsed:  4.8min finished\n",
      "100%|██████████| 4/4 [18:37<00:00, 279.29s/it]"
     ]
    },
    {
     "name": "stdout",
     "output_type": "stream",
     "text": [
      "CPU times: user 1min 6s, sys: 1.26 s, total: 1min 7s\n",
      "Wall time: 18min 37s\n"
     ]
    },
    {
     "name": "stderr",
     "output_type": "stream",
     "text": [
      "\n"
     ]
    }
   ],
   "source": [
    "%%time\n",
    "Sample3_results_df =sfm_pipeline('Sample3',Classifiers,Sample1_param)"
   ]
  },
  {
   "cell_type": "code",
   "execution_count": 194,
   "metadata": {},
   "outputs": [
    {
     "data": {
      "text/html": [
       "<div>\n",
       "<table border=\"1\" class=\"dataframe\">\n",
       "  <thead>\n",
       "    <tr style=\"text-align: right;\">\n",
       "      <th></th>\n",
       "      <th>best_params</th>\n",
       "      <th>best_test_score</th>\n",
       "      <th>dataset</th>\n",
       "      <th>featSelect</th>\n",
       "      <th>model</th>\n",
       "      <th>n_featSelect</th>\n",
       "    </tr>\n",
       "  </thead>\n",
       "  <tbody>\n",
       "    <tr>\n",
       "      <th>0</th>\n",
       "      <td>{'sfm__estimator': LogisticRegression(C=100.0,...</td>\n",
       "      <td>0.810959</td>\n",
       "      <td>Sample3</td>\n",
       "      <td>[257, 269, 308, 315, 336, 341, 395, 504, 526, ...</td>\n",
       "      <td>SFM_KNN</td>\n",
       "      <td>20</td>\n",
       "    </tr>\n",
       "    <tr>\n",
       "      <th>1</th>\n",
       "      <td>{'sfm__estimator': LogisticRegression(C=100.0,...</td>\n",
       "      <td>0.684110</td>\n",
       "      <td>Sample3</td>\n",
       "      <td>[257, 269, 308, 315, 336, 341, 395, 504, 526, ...</td>\n",
       "      <td>SFM_LR</td>\n",
       "      <td>20</td>\n",
       "    </tr>\n",
       "    <tr>\n",
       "      <th>2</th>\n",
       "      <td>{'sfm__estimator': LogisticRegression(C=1000.0...</td>\n",
       "      <td>0.737123</td>\n",
       "      <td>Sample3</td>\n",
       "      <td>[257, 269, 308, 315, 336, 341, 395, 504, 526, ...</td>\n",
       "      <td>SFM_DT</td>\n",
       "      <td>20</td>\n",
       "    </tr>\n",
       "    <tr>\n",
       "      <th>3</th>\n",
       "      <td>{'sfm__estimator': LogisticRegression(C=10.0, ...</td>\n",
       "      <td>0.765616</td>\n",
       "      <td>Sample3</td>\n",
       "      <td>[257, 269, 308, 315, 336, 341, 395, 504, 526, ...</td>\n",
       "      <td>SFM_SVC</td>\n",
       "      <td>19</td>\n",
       "    </tr>\n",
       "  </tbody>\n",
       "</table>\n",
       "</div>"
      ],
      "text/plain": [
       "                                         best_params  best_test_score  \\\n",
       "0  {'sfm__estimator': LogisticRegression(C=100.0,...         0.810959   \n",
       "1  {'sfm__estimator': LogisticRegression(C=100.0,...         0.684110   \n",
       "2  {'sfm__estimator': LogisticRegression(C=1000.0...         0.737123   \n",
       "3  {'sfm__estimator': LogisticRegression(C=10.0, ...         0.765616   \n",
       "\n",
       "   dataset                                         featSelect    model  \\\n",
       "0  Sample3  [257, 269, 308, 315, 336, 341, 395, 504, 526, ...  SFM_KNN   \n",
       "1  Sample3  [257, 269, 308, 315, 336, 341, 395, 504, 526, ...   SFM_LR   \n",
       "2  Sample3  [257, 269, 308, 315, 336, 341, 395, 504, 526, ...   SFM_DT   \n",
       "3  Sample3  [257, 269, 308, 315, 336, 341, 395, 504, 526, ...  SFM_SVC   \n",
       "\n",
       "   n_featSelect  \n",
       "0            20  \n",
       "1            20  \n",
       "2            20  \n",
       "3            19  "
      ]
     },
     "execution_count": 194,
     "metadata": {},
     "output_type": "execute_result"
    }
   ],
   "source": [
    "Sample3_results_df "
   ]
  },
  {
   "cell_type": "code",
   "execution_count": 195,
   "metadata": {},
   "outputs": [],
   "source": [
    "Sample_results_df=pd.concat([Sample1_results_df,Sample2_results_df,\\\n",
    "                          Sample3_results_df], axis=0, ignore_index=True)"
   ]
  },
  {
   "cell_type": "code",
   "execution_count": 196,
   "metadata": {},
   "outputs": [],
   "source": [
    "Sample_results_df.to_pickle('./data/pickle_data/Samples_bestfeatures_sfm')"
   ]
  },
  {
   "cell_type": "code",
   "execution_count": null,
   "metadata": {},
   "outputs": [],
   "source": []
  }
 ],
 "metadata": {
  "kernelspec": {
   "display_name": "Python 3",
   "language": "python",
   "name": "python3"
  },
  "language_info": {
   "codemirror_mode": {
    "name": "ipython",
    "version": 3
   },
   "file_extension": ".py",
   "mimetype": "text/x-python",
   "name": "python",
   "nbconvert_exporter": "python",
   "pygments_lexer": "ipython3",
   "version": "3.6.3"
  }
 },
 "nbformat": 4,
 "nbformat_minor": 2
}
