{
 "cells": [
  {
   "cell_type": "code",
   "execution_count": 1,
   "metadata": {},
   "outputs": [
    {
     "name": "stdout",
     "output_type": "stream",
     "text": [
      "/home/jovyan/Documents/dsi_plus/Projects/project_3 - Madelon_feature_selection\n"
     ]
    }
   ],
   "source": [
    "cd /home/jovyan/Documents/dsi_plus/Projects/project_3 - Madelon_feature_selection"
   ]
  },
  {
   "cell_type": "code",
   "execution_count": 2,
   "metadata": {},
   "outputs": [],
   "source": [
    "#Import standard modules\n",
    "%run lib/__init__.py\n",
    "%matplotlib inline"
   ]
  },
  {
   "cell_type": "markdown",
   "metadata": {},
   "source": [
    "### Project 3: Madelon Dataset - Feature Selection + Classification\n",
    "\n",
    "\n",
    "### Step 1 - Benchmarking\n",
    "\n",
    "Benchmark scores of the classification models, using default hyperparameters, on the raw data.\n",
    "\n",
    "- build pipeline to perform a naive fit for each of the base model classes:\n",
    "\t- logistic regression\n",
    "\t- decision tree (classifier)\n",
    "\t- k nearest neighbors\n",
    "\t- support vector classifier\n",
    "- in order to do this, you will need to set a high `C` value in order to perform minimal regularization, in the case of logistic regression and support vector classifier.\n",
    "\n",
    "To score models use\n",
    "    * accuracy\n",
    "    * ROC\n",
    "    \n",
    "\n",
    "Calculate bench marks for\n",
    "    * Madelon dataset\n",
    "    * Postgres Sample1 , Sample2 and Sample3\n",
    "    \n",
    "Split each dataset into Train and Test sets. The Test set will be scored now and then wil not be used until the final model has been built. \n",
    "\n",
    "Hold out 25% of each set, use a random_state = 42 so that the benchmarks will remain fixed if thie notebook has to be rerun."
   ]
  },
  {
   "cell_type": "code",
   "execution_count": 3,
   "metadata": {},
   "outputs": [],
   "source": [
    "benchmarks=pd.DataFrame()"
   ]
  },
  {
   "cell_type": "markdown",
   "metadata": {},
   "source": [
    "### 1. Load data set "
   ]
  },
  {
   "cell_type": "code",
   "execution_count": 4,
   "metadata": {},
   "outputs": [],
   "source": [
    "#Load files names for datasets\n",
    "pickle_files=Pickle_files()\n",
    "datafiles=pickle_files.read_datafiles()"
   ]
  },
  {
   "cell_type": "markdown",
   "metadata": {},
   "source": [
    "### 2. Build pipleines for benchmarks\n"
   ]
  },
  {
   "cell_type": "code",
   "execution_count": 5,
   "metadata": {},
   "outputs": [],
   "source": [
    "#set random seed so benchmarks remain stable\n",
    "import random\n",
    "random.seed(42)"
   ]
  },
  {
   "cell_type": "code",
   "execution_count": 6,
   "metadata": {},
   "outputs": [],
   "source": [
    "classifiers={\n",
    "            'LogReg': LogisticRegression(C=1000 ),\n",
    "            'DTr': DecisionTreeClassifier(),\n",
    "            'KNN': KNeighborsClassifier(),\n",
    "            'SVC': SVC(C=1000)\n",
    "            }"
   ]
  },
  {
   "cell_type": "code",
   "execution_count": 7,
   "metadata": {},
   "outputs": [],
   "source": [
    "def pickle_data(s,l):\n",
    "    \n",
    "    for i, j in enumerate(l):\n",
    "        j.to_pickle(datafiles[s][i+2])\n",
    "        j_check=pd.read_pickle(datafiles[s][i+2]) \n",
    "        c=j_check.equals(j)\n",
    "        print('file : {} - saved correctly {}, data shape saved  {}'.format(datafiles[s][i+2],c, j.shape))\n",
    "   \n",
    "    return"
   ]
  },
  {
   "cell_type": "code",
   "execution_count": 8,
   "metadata": {},
   "outputs": [],
   "source": [
    "def naieve_benchmark(s,X,y,classifiers):\n",
    "    '''build pipelines for each classifier in list '''\n",
    "    results=[]\n",
    "    X_train,X_test,y_train,y_test=train_test_split(X,y,test_size=.20)\n",
    "    \n",
    "    #savesplit\n",
    "    pickle_data(s,[X_train,X_test,y_train,y_test])\n",
    "    \n",
    "    for n,clf in classifiers.items():\n",
    "        pipe=Pipeline(steps=[('scaler' , None),\n",
    "                                 ('clf' , clf)\n",
    "                            ])\n",
    "        pipe.fit(X_train,y_train.squeeze())\n",
    "        results.append({'dataset': s,\n",
    "                        'classifier': n,\n",
    "                        'model': clf,\n",
    "                        'train_score': pipe.score(X_train,y_train.squeeze()),\n",
    "                        'test_score': pipe.score(X_test,y_test.squeeze())\n",
    "                             })\n",
    "    benchmark_scores=pd.DataFrame(results)\n",
    "    return benchmark_scores"
   ]
  },
  {
   "cell_type": "markdown",
   "metadata": {},
   "source": [
    "### 3. Score datasets"
   ]
  },
  {
   "cell_type": "markdown",
   "metadata": {},
   "source": [
    "#### UCI"
   ]
  },
  {
   "cell_type": "code",
   "execution_count": 9,
   "metadata": {},
   "outputs": [],
   "source": [
    "XU=pd.read_pickle(datafiles['UCI'][0])\n",
    "yU=pd.read_pickle(datafiles['UCI'][1])"
   ]
  },
  {
   "cell_type": "code",
   "execution_count": 10,
   "metadata": {},
   "outputs": [
    {
     "data": {
      "text/plain": [
       "((2600, 500), (2600, 1))"
      ]
     },
     "execution_count": 10,
     "metadata": {},
     "output_type": "execute_result"
    }
   ],
   "source": [
    "XU.shape, yU.shape"
   ]
  },
  {
   "cell_type": "code",
   "execution_count": 11,
   "metadata": {},
   "outputs": [
    {
     "name": "stdout",
     "output_type": "stream",
     "text": [
      "file : ./data/pickle_data/UCI_X_train - saved correctly True, data shape saved  (2080, 500)\n",
      "file : ./data/pickle_data/UCI_X_test - saved correctly True, data shape saved  (520, 500)\n",
      "file : ./data/pickle_data/UCI_y_train - saved correctly True, data shape saved  (2080, 1)\n",
      "file : ./data/pickle_data/UCI_y_test - saved correctly True, data shape saved  (520, 1)\n",
      "CPU times: user 6.45 s, sys: 130 ms, total: 6.58 s\n",
      "Wall time: 6.48 s\n"
     ]
    }
   ],
   "source": [
    "%%time\n",
    "benchmarksUCI=naieve_benchmark('UCI',XU,yU,classifiers)"
   ]
  },
  {
   "cell_type": "code",
   "execution_count": null,
   "metadata": {},
   "outputs": [],
   "source": [
    "benchmarksUCI.drop('model',axis=1, inplace=True)"
   ]
  },
  {
   "cell_type": "code",
   "execution_count": 16,
   "metadata": {},
   "outputs": [
    {
     "data": {
      "text/html": [
       "<div>\n",
       "<table border=\"1\" class=\"dataframe\">\n",
       "  <thead>\n",
       "    <tr style=\"text-align: right;\">\n",
       "      <th></th>\n",
       "      <th>classifier</th>\n",
       "      <th>dataset</th>\n",
       "      <th>test_score</th>\n",
       "      <th>train_score</th>\n",
       "    </tr>\n",
       "  </thead>\n",
       "  <tbody>\n",
       "    <tr>\n",
       "      <th>0</th>\n",
       "      <td>LogReg</td>\n",
       "      <td>UCI</td>\n",
       "      <td>0.478846</td>\n",
       "      <td>0.505288</td>\n",
       "    </tr>\n",
       "    <tr>\n",
       "      <th>1</th>\n",
       "      <td>DTr</td>\n",
       "      <td>UCI</td>\n",
       "      <td>0.721154</td>\n",
       "      <td>1.000000</td>\n",
       "    </tr>\n",
       "    <tr>\n",
       "      <th>2</th>\n",
       "      <td>KNN</td>\n",
       "      <td>UCI</td>\n",
       "      <td>0.465385</td>\n",
       "      <td>0.683654</td>\n",
       "    </tr>\n",
       "    <tr>\n",
       "      <th>3</th>\n",
       "      <td>SVC</td>\n",
       "      <td>UCI</td>\n",
       "      <td>0.478846</td>\n",
       "      <td>0.983173</td>\n",
       "    </tr>\n",
       "  </tbody>\n",
       "</table>\n",
       "</div>"
      ],
      "text/plain": [
       "  classifier dataset  test_score  train_score\n",
       "0     LogReg     UCI    0.478846     0.505288\n",
       "1        DTr     UCI    0.721154     1.000000\n",
       "2        KNN     UCI    0.465385     0.683654\n",
       "3        SVC     UCI    0.478846     0.983173"
      ]
     },
     "execution_count": 16,
     "metadata": {},
     "output_type": "execute_result"
    }
   ],
   "source": [
    "benchmarksUCI"
   ]
  },
  {
   "cell_type": "markdown",
   "metadata": {},
   "source": [
    "#### Sample1"
   ]
  },
  {
   "cell_type": "code",
   "execution_count": 18,
   "metadata": {},
   "outputs": [],
   "source": [
    "XS1=pd.read_pickle(datafiles['Sample1'][0])\n",
    "yS1=pd.read_pickle(datafiles['Sample1'][1])"
   ]
  },
  {
   "cell_type": "code",
   "execution_count": 19,
   "metadata": {},
   "outputs": [
    {
     "data": {
      "text/plain": [
       "((9206, 1000), (9206,))"
      ]
     },
     "execution_count": 19,
     "metadata": {},
     "output_type": "execute_result"
    }
   ],
   "source": [
    "XS1.shape, yS1.shape"
   ]
  },
  {
   "cell_type": "code",
   "execution_count": 20,
   "metadata": {},
   "outputs": [
    {
     "name": "stdout",
     "output_type": "stream",
     "text": [
      "file : ./data/pickle_data/Sample1_X_train - saved correctly True, data shape saved  (7364, 1000)\n",
      "file : ./data/pickle_data/Sample1_X_test - saved correctly True, data shape saved  (1842, 1000)\n",
      "file : ./data/pickle_data/Sample1_y_train - saved correctly True, data shape saved  (7364,)\n",
      "file : ./data/pickle_data/Sample1_y_test - saved correctly True, data shape saved  (1842,)\n",
      "CPU times: user 5min 57s, sys: 670 ms, total: 5min 58s\n",
      "Wall time: 5min 58s\n"
     ]
    }
   ],
   "source": [
    "%%time\n",
    "benchmarksS1=naieve_benchmark('Sample1',XS1,yS1,classifiers)"
   ]
  },
  {
   "cell_type": "markdown",
   "metadata": {},
   "source": [
    "#### Sample2"
   ]
  },
  {
   "cell_type": "code",
   "execution_count": 21,
   "metadata": {},
   "outputs": [],
   "source": [
    "XS2=pd.read_pickle(datafiles['Sample2'][0])\n",
    "yS2=pd.read_pickle(datafiles['Sample2'][1])"
   ]
  },
  {
   "cell_type": "code",
   "execution_count": 22,
   "metadata": {},
   "outputs": [
    {
     "data": {
      "text/plain": [
       "((9157, 1000), (9157,))"
      ]
     },
     "execution_count": 22,
     "metadata": {},
     "output_type": "execute_result"
    }
   ],
   "source": [
    "XS2.shape, yS2.shape"
   ]
  },
  {
   "cell_type": "code",
   "execution_count": 23,
   "metadata": {},
   "outputs": [
    {
     "name": "stdout",
     "output_type": "stream",
     "text": [
      "file : ./data/pickle_data/Sample2_X_train - saved correctly True, data shape saved  (7325, 1000)\n",
      "file : ./data/pickle_data/Sample2_X_test - saved correctly True, data shape saved  (1832, 1000)\n",
      "file : ./data/pickle_data/Sample2_y_train - saved correctly True, data shape saved  (7325,)\n",
      "file : ./data/pickle_data/Sample2_y_test - saved correctly True, data shape saved  (1832,)\n",
      "CPU times: user 5min 44s, sys: 600 ms, total: 5min 45s\n",
      "Wall time: 5min 45s\n"
     ]
    }
   ],
   "source": [
    "%%time\n",
    "benchmarksS2=naieve_benchmark('Sample2',XS2,yS2,classifiers)"
   ]
  },
  {
   "cell_type": "markdown",
   "metadata": {},
   "source": [
    "#### Sample3"
   ]
  },
  {
   "cell_type": "code",
   "execution_count": 24,
   "metadata": {},
   "outputs": [],
   "source": [
    "XS3=pd.read_pickle(datafiles['Sample3'][0])\n",
    "yS3=pd.read_pickle(datafiles['Sample3'][1])"
   ]
  },
  {
   "cell_type": "code",
   "execution_count": 25,
   "metadata": {},
   "outputs": [
    {
     "data": {
      "text/plain": [
       "((9126, 1000), (9126,))"
      ]
     },
     "execution_count": 25,
     "metadata": {},
     "output_type": "execute_result"
    }
   ],
   "source": [
    "XS3.shape, yS3.shape"
   ]
  },
  {
   "cell_type": "code",
   "execution_count": 26,
   "metadata": {},
   "outputs": [
    {
     "name": "stdout",
     "output_type": "stream",
     "text": [
      "file : ./data/pickle_data/Sample3_X_train - saved correctly True, data shape saved  (7300, 1000)\n",
      "file : ./data/pickle_data/Sample3_X_test - saved correctly True, data shape saved  (1826, 1000)\n",
      "file : ./data/pickle_data/Sample3_y_train - saved correctly True, data shape saved  (7300,)\n",
      "file : ./data/pickle_data/Sample3_y_test - saved correctly True, data shape saved  (1826,)\n",
      "CPU times: user 5min 55s, sys: 770 ms, total: 5min 56s\n",
      "Wall time: 5min 56s\n"
     ]
    }
   ],
   "source": [
    "%%time\n",
    "benchmarksS3=naieve_benchmark('Sample3',XS3,yS3,classifiers)"
   ]
  },
  {
   "cell_type": "markdown",
   "metadata": {},
   "source": [
    "#### Consolidate benchmarks"
   ]
  },
  {
   "cell_type": "code",
   "execution_count": 27,
   "metadata": {},
   "outputs": [],
   "source": [
    "benchmarkS=pd.concat([benchmarksS1,benchmarksS2,benchmarksS3], axis=0,ignore_index=True)"
   ]
  },
  {
   "cell_type": "code",
   "execution_count": 33,
   "metadata": {},
   "outputs": [],
   "source": [
    "benchmarksUCI.to_pickle('./data/pickle_data/UCI_benchmarks')"
   ]
  },
  {
   "cell_type": "code",
   "execution_count": 31,
   "metadata": {},
   "outputs": [],
   "source": [
    "benchmarkS.drop('model',axis=1,inplace=True )"
   ]
  },
  {
   "cell_type": "code",
   "execution_count": 32,
   "metadata": {},
   "outputs": [],
   "source": [
    "benchmarkS.to_pickle('./data/pickle_data/Samples_benchmarks')"
   ]
  },
  {
   "cell_type": "code",
   "execution_count": 34,
   "metadata": {},
   "outputs": [
    {
     "data": {
      "text/plain": [
       "['LogReg', 'DTr', 'KNN', 'SVC']"
      ]
     },
     "execution_count": 34,
     "metadata": {},
     "output_type": "execute_result"
    }
   ],
   "source": [
    "list(benchmarksUCI.classifier.values)"
   ]
  },
  {
   "cell_type": "code",
   "execution_count": 35,
   "metadata": {},
   "outputs": [
    {
     "data": {
      "image/png": "[encoded data removed]",
      "text/plain": [
       "<matplotlib.figure.Figure at 0x7fa1083c76d8>"
      ]
     },
     "metadata": {},
     "output_type": "display_data"
    }
   ],
   "source": [
    "fig=plt.figure(figsize=(6,6))\n",
    "ax1=fig.add_subplot(111)\n",
    "benchmarksUCI.plot.bar(ax=ax1)\n",
    "ax1.set_xticks(range(4),list(benchmarksUCI.classifier.values))\n",
    "ax1.set_title('UCI - benchmark test  & train scores')\n",
    "plt.show()\n",
    "fig.savefig('./images/01-UCI-benchmarks-barcht.jpg')"
   ]
  },
  {
   "cell_type": "code",
   "execution_count": 36,
   "metadata": {},
   "outputs": [
    {
     "data": {
      "image/png": "[encoded data removed]",
      "text/plain": [
       "<matplotlib.figure.Figure at 0x7fa1048aca58>"
      ]
     },
     "metadata": {},
     "output_type": "display_data"
    }
   ],
   "source": [
    "fig=plt.figure(figsize=(6,6))\n",
    "ax1=fig.add_subplot(111)\n",
    "benchmarkS.plot.bar(ax=ax1)\n",
    "ax1.set_xticks(range(12),list(benchmarkS.classifier.values))\n",
    "ax1.set_title('Samples - benchmark test  & train scores')\n",
    "plt.show()\n",
    "fig.savefig('./images/01-Samples-benchmarks-barcht.jpg')"
   ]
  },
  {
   "cell_type": "code",
   "execution_count": 37,
   "metadata": {},
   "outputs": [],
   "source": [
    "benchmark=pd.read_pickle('./data/pickle_data/Samples_benchmarks')\n",
    "benchmarksUCI=pd.read_pickle('./data/pickle_data/UCI_benchmarks')"
   ]
  },
  {
   "cell_type": "code",
   "execution_count": 38,
   "metadata": {},
   "outputs": [
    {
     "data": {
      "text/html": [
       "<div>\n",
       "<table border=\"1\" class=\"dataframe\">\n",
       "  <thead>\n",
       "    <tr style=\"text-align: right;\">\n",
       "      <th></th>\n",
       "      <th>classifier</th>\n",
       "      <th>dataset</th>\n",
       "      <th>test_score</th>\n",
       "      <th>train_score</th>\n",
       "    </tr>\n",
       "  </thead>\n",
       "  <tbody>\n",
       "    <tr>\n",
       "      <th>0</th>\n",
       "      <td>LogReg</td>\n",
       "      <td>Sample1</td>\n",
       "      <td>0.636265</td>\n",
       "      <td>0.751630</td>\n",
       "    </tr>\n",
       "    <tr>\n",
       "      <th>1</th>\n",
       "      <td>DTr</td>\n",
       "      <td>Sample1</td>\n",
       "      <td>0.652552</td>\n",
       "      <td>1.000000</td>\n",
       "    </tr>\n",
       "    <tr>\n",
       "      <th>2</th>\n",
       "      <td>KNN</td>\n",
       "      <td>Sample1</td>\n",
       "      <td>0.571118</td>\n",
       "      <td>0.751494</td>\n",
       "    </tr>\n",
       "    <tr>\n",
       "      <th>3</th>\n",
       "      <td>SVC</td>\n",
       "      <td>Sample1</td>\n",
       "      <td>0.641151</td>\n",
       "      <td>1.000000</td>\n",
       "    </tr>\n",
       "    <tr>\n",
       "      <th>4</th>\n",
       "      <td>LogReg</td>\n",
       "      <td>Sample2</td>\n",
       "      <td>0.629367</td>\n",
       "      <td>0.747986</td>\n",
       "    </tr>\n",
       "    <tr>\n",
       "      <th>5</th>\n",
       "      <td>DTr</td>\n",
       "      <td>Sample2</td>\n",
       "      <td>0.671397</td>\n",
       "      <td>1.000000</td>\n",
       "    </tr>\n",
       "    <tr>\n",
       "      <th>6</th>\n",
       "      <td>KNN</td>\n",
       "      <td>Sample2</td>\n",
       "      <td>0.572052</td>\n",
       "      <td>0.746348</td>\n",
       "    </tr>\n",
       "    <tr>\n",
       "      <th>7</th>\n",
       "      <td>SVC</td>\n",
       "      <td>Sample2</td>\n",
       "      <td>0.649017</td>\n",
       "      <td>1.000000</td>\n",
       "    </tr>\n",
       "    <tr>\n",
       "      <th>8</th>\n",
       "      <td>LogReg</td>\n",
       "      <td>Sample3</td>\n",
       "      <td>0.613910</td>\n",
       "      <td>0.741096</td>\n",
       "    </tr>\n",
       "    <tr>\n",
       "      <th>9</th>\n",
       "      <td>DTr</td>\n",
       "      <td>Sample3</td>\n",
       "      <td>0.684009</td>\n",
       "      <td>1.000000</td>\n",
       "    </tr>\n",
       "    <tr>\n",
       "      <th>10</th>\n",
       "      <td>KNN</td>\n",
       "      <td>Sample3</td>\n",
       "      <td>0.599671</td>\n",
       "      <td>0.744110</td>\n",
       "    </tr>\n",
       "    <tr>\n",
       "      <th>11</th>\n",
       "      <td>SVC</td>\n",
       "      <td>Sample3</td>\n",
       "      <td>0.626506</td>\n",
       "      <td>1.000000</td>\n",
       "    </tr>\n",
       "  </tbody>\n",
       "</table>\n",
       "</div>"
      ],
      "text/plain": [
       "   classifier  dataset  test_score  train_score\n",
       "0      LogReg  Sample1    0.636265     0.751630\n",
       "1         DTr  Sample1    0.652552     1.000000\n",
       "2         KNN  Sample1    0.571118     0.751494\n",
       "3         SVC  Sample1    0.641151     1.000000\n",
       "4      LogReg  Sample2    0.629367     0.747986\n",
       "5         DTr  Sample2    0.671397     1.000000\n",
       "6         KNN  Sample2    0.572052     0.746348\n",
       "7         SVC  Sample2    0.649017     1.000000\n",
       "8      LogReg  Sample3    0.613910     0.741096\n",
       "9         DTr  Sample3    0.684009     1.000000\n",
       "10        KNN  Sample3    0.599671     0.744110\n",
       "11        SVC  Sample3    0.626506     1.000000"
      ]
     },
     "execution_count": 38,
     "metadata": {},
     "output_type": "execute_result"
    }
   ],
   "source": [
    "benchmark"
   ]
  },
  {
   "cell_type": "code",
   "execution_count": 39,
   "metadata": {},
   "outputs": [
    {
     "data": {
      "text/html": [
       "<div>\n",
       "<table border=\"1\" class=\"dataframe\">\n",
       "  <thead>\n",
       "    <tr style=\"text-align: right;\">\n",
       "      <th></th>\n",
       "      <th>classifier</th>\n",
       "      <th>dataset</th>\n",
       "      <th>test_score</th>\n",
       "      <th>train_score</th>\n",
       "    </tr>\n",
       "  </thead>\n",
       "  <tbody>\n",
       "    <tr>\n",
       "      <th>0</th>\n",
       "      <td>LogReg</td>\n",
       "      <td>UCI</td>\n",
       "      <td>0.478846</td>\n",
       "      <td>0.505288</td>\n",
       "    </tr>\n",
       "    <tr>\n",
       "      <th>1</th>\n",
       "      <td>DTr</td>\n",
       "      <td>UCI</td>\n",
       "      <td>0.721154</td>\n",
       "      <td>1.000000</td>\n",
       "    </tr>\n",
       "    <tr>\n",
       "      <th>2</th>\n",
       "      <td>KNN</td>\n",
       "      <td>UCI</td>\n",
       "      <td>0.465385</td>\n",
       "      <td>0.683654</td>\n",
       "    </tr>\n",
       "    <tr>\n",
       "      <th>3</th>\n",
       "      <td>SVC</td>\n",
       "      <td>UCI</td>\n",
       "      <td>0.478846</td>\n",
       "      <td>0.983173</td>\n",
       "    </tr>\n",
       "  </tbody>\n",
       "</table>\n",
       "</div>"
      ],
      "text/plain": [
       "  classifier dataset  test_score  train_score\n",
       "0     LogReg     UCI    0.478846     0.505288\n",
       "1        DTr     UCI    0.721154     1.000000\n",
       "2        KNN     UCI    0.465385     0.683654\n",
       "3        SVC     UCI    0.478846     0.983173"
      ]
     },
     "execution_count": 39,
     "metadata": {},
     "output_type": "execute_result"
    }
   ],
   "source": [
    "benchmarksUCI"
   ]
  },
  {
   "cell_type": "code",
   "execution_count": null,
   "metadata": {},
   "outputs": [],
   "source": []
  }
 ],
 "metadata": {
  "kernelspec": {
   "display_name": "Python 3",
   "language": "python",
   "name": "python3"
  },
  "language_info": {
   "codemirror_mode": {
    "name": "ipython",
    "version": 3
   },
   "file_extension": ".py",
   "mimetype": "text/x-python",
   "name": "python",
   "nbconvert_exporter": "python",
   "pygments_lexer": "ipython3",
   "version": "3.6.2"
  }
 },
 "nbformat": 4,
 "nbformat_minor": 2
}
