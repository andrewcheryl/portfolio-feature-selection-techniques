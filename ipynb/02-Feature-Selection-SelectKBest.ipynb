{
 "cells": [
  {
   "cell_type": "code",
   "execution_count": 1,
   "metadata": {},
   "outputs": [
    {
     "name": "stdout",
     "output_type": "stream",
     "text": [
      "/home/jovyan/Documents/dsi_plus/Projects/project_3 - Madelon_feature_selection\n"
     ]
    }
   ],
   "source": [
    "cd /home/jovyan/Documents/dsi_plus/Projects/project_3 - Madelon_feature_selection"
   ]
  },
  {
   "cell_type": "code",
   "execution_count": 2,
   "metadata": {},
   "outputs": [],
   "source": [
    "#Import standard modules\n",
    "%run lib/__init__.py\n",
    "%matplotlib inline"
   ]
  },
  {
   "cell_type": "markdown",
   "metadata": {},
   "source": [
    "### Project 3: Madelon Dataset - Feature Selection + Classification\n",
    "\n",
    "## Step 2. Feature Selection - SelectKbest\n",
    "\n",
    "Hyperparatmeters: \n",
    "   * k threshold : \n",
    "       * number of features to select and pass to next method ( based on lowest pvalues). \n",
    "       * We are looking for 5 informative and 15 redundant features so we will try a range of values \n",
    "           k = [5,10,15,20]\n",
    "   * scoring function: \n",
    "       * f_classifi - used for classification problems with Categorical target and continous features\n",
    "       * Function used to calculate pvalues of ANOVA F-test. \n",
    "       * Low pvalue implies => reject null hypothesis\n",
    "           null hypothesis = feature and tartget have not statistically different.\n",
    "           \n",
    "random.seed removed and shuffle split as causing model to get stuck. Stratefiedkfold is the default used by gridsearch when the last fit model is a classifier , so only the shuffle element is missing."
   ]
  },
  {
   "cell_type": "code",
   "execution_count": 3,
   "metadata": {},
   "outputs": [],
   "source": [
    "#random.seed=42"
   ]
  },
  {
   "cell_type": "code",
   "execution_count": 4,
   "metadata": {},
   "outputs": [],
   "source": [
    "#Load files names for datasets\n",
    "pickle_files=Pickle_files()\n",
    "datafiles=pickle_files.read_datafiles()\n"
   ]
  },
  {
   "cell_type": "code",
   "execution_count": 5,
   "metadata": {},
   "outputs": [],
   "source": [
    "#List of classifiers to use for scoring selection\n",
    "Classifiers={'SKB_KNN':KNeighborsClassifier(),'SKB_LR': LogisticRegression(C=100),\\\n",
    "             'SKB_DT': DecisionTreeClassifier(), 'SKB_SVC':SVC()}\n",
    "\n",
    "XClassifiers={'SKB_LR': LogisticRegression(C=1000)}"
   ]
  },
  {
   "cell_type": "code",
   "execution_count": 6,
   "metadata": {},
   "outputs": [],
   "source": [
    "def skb_pipeline(ds,Classifiers, paramG,datafiles=datafiles ):\n",
    "    ''' \n",
    "    Pipline to find best features using SelectFromModel with LogisticRegression estimator\n",
    "    '''\n",
    "    X=pd.read_pickle(datafiles[ds][2])\n",
    "    y=pd.read_pickle(datafiles[ds][4])\n",
    "    print(datafiles[ds][2],X.shape, datafiles[ds][4],y.shape)\n",
    "    \n",
    "    results=[]\n",
    "    \n",
    "    for n,model in tqdm(Classifiers.items()):   \n",
    "       \n",
    "        \n",
    "        pipe=Pipeline(steps=[\n",
    "                                ('scaler' , StandardScaler()),\n",
    "                                ('skb' , SelectKBest()),\n",
    "                                ('clf' ,model)\n",
    "                               ])\n",
    "    \n",
    "        param=paramG\n",
    "\n",
    "        grsCV=GridSearchCV(pipe,param,n_jobs=-1, verbose=1,\\\n",
    "                           cv=StratifiedShuffleSplit(n_splits=5, test_size=.2))\n",
    "       \n",
    "        grsCV.fit(X,y.squeeze())\n",
    "        \n",
    "        \n",
    "        skb_support=grsCV.best_estimator_.named_steps['skb'].get_support()\n",
    "        \n",
    "        results_n={ 'dataset' : ds,\n",
    "                    'model'  : n,\n",
    "                    'best_test_score' : grsCV.best_score_,\n",
    "                    'best_params' : grsCV.best_params_ , \n",
    "                    'featSelect' : np.where(skb_support)[0], \n",
    "                    'n_featSelect' : np.sum(skb_support)\n",
    "                    }\n",
    "        results.append(results_n)\n",
    "    \n",
    "        \n",
    "    results_df=pd.DataFrame(results)\n",
    "    \n",
    "    return results_df"
   ]
  },
  {
   "cell_type": "markdown",
   "metadata": {},
   "source": [
    "#### UCI Dataset"
   ]
  },
  {
   "cell_type": "code",
   "execution_count": 7,
   "metadata": {},
   "outputs": [],
   "source": [
    "UCI_param=({'skb__k': [5,10,15,20]})"
   ]
  },
  {
   "cell_type": "code",
   "execution_count": 8,
   "metadata": {},
   "outputs": [
    {
     "name": "stderr",
     "output_type": "stream",
     "text": [
      "\r",
      "  0%|          | 0/4 [00:00<?, ?it/s]"
     ]
    },
    {
     "name": "stdout",
     "output_type": "stream",
     "text": [
      "./data/pickle_data/UCI_X_train (2080, 500) ./data/pickle_data/UCI_y_train (2080, 1)\n",
      "Fitting 5 folds for each of 4 candidates, totalling 20 fits\n"
     ]
    },
    {
     "name": "stderr",
     "output_type": "stream",
     "text": [
      "[Parallel(n_jobs=-1)]: Done  20 out of  20 | elapsed:    0.7s finished\n",
      "\r",
      " 25%|██▌       | 1/4 [00:00<00:02,  1.22it/s]"
     ]
    },
    {
     "name": "stdout",
     "output_type": "stream",
     "text": [
      "Fitting 5 folds for each of 4 candidates, totalling 20 fits\n"
     ]
    },
    {
     "name": "stderr",
     "output_type": "stream",
     "text": [
      "[Parallel(n_jobs=-1)]: Done  20 out of  20 | elapsed:    0.6s finished\n",
      "\r",
      " 50%|█████     | 2/4 [00:01<00:01,  1.21it/s]"
     ]
    },
    {
     "name": "stdout",
     "output_type": "stream",
     "text": [
      "Fitting 5 folds for each of 4 candidates, totalling 20 fits\n"
     ]
    },
    {
     "name": "stderr",
     "output_type": "stream",
     "text": [
      "[Parallel(n_jobs=-1)]: Done  20 out of  20 | elapsed:    0.5s finished\n",
      "\r",
      " 75%|███████▌  | 3/4 [00:02<00:00,  1.31it/s]"
     ]
    },
    {
     "name": "stdout",
     "output_type": "stream",
     "text": [
      "Fitting 5 folds for each of 4 candidates, totalling 20 fits\n"
     ]
    },
    {
     "name": "stderr",
     "output_type": "stream",
     "text": [
      "[Parallel(n_jobs=-1)]: Done  20 out of  20 | elapsed:    1.4s finished\n",
      "100%|██████████| 4/4 [00:03<00:00,  1.01it/s]"
     ]
    },
    {
     "name": "stdout",
     "output_type": "stream",
     "text": [
      "CPU times: user 1.5 s, sys: 190 ms, total: 1.69 s\n",
      "Wall time: 4.03 s\n"
     ]
    },
    {
     "name": "stderr",
     "output_type": "stream",
     "text": [
      "\n"
     ]
    }
   ],
   "source": [
    "%%time\n",
    "UCI_results_df=skb_pipeline('UCI',Classifiers, UCI_param)"
   ]
  },
  {
   "cell_type": "code",
   "execution_count": 9,
   "metadata": {},
   "outputs": [
    {
     "data": {
      "text/html": [
       "<div>\n",
       "<table border=\"1\" class=\"dataframe\">\n",
       "  <thead>\n",
       "    <tr style=\"text-align: right;\">\n",
       "      <th></th>\n",
       "      <th>best_params</th>\n",
       "      <th>best_test_score</th>\n",
       "      <th>dataset</th>\n",
       "      <th>featSelect</th>\n",
       "      <th>model</th>\n",
       "      <th>n_featSelect</th>\n",
       "    </tr>\n",
       "  </thead>\n",
       "  <tbody>\n",
       "    <tr>\n",
       "      <th>0</th>\n",
       "      <td>{'skb__k': 10}</td>\n",
       "      <td>0.871154</td>\n",
       "      <td>UCI</td>\n",
       "      <td>[48, 64, 105, 128, 241, 336, 338, 378, 442, 475]</td>\n",
       "      <td>SKB_KNN</td>\n",
       "      <td>10</td>\n",
       "    </tr>\n",
       "    <tr>\n",
       "      <th>1</th>\n",
       "      <td>{'skb__k': 5}</td>\n",
       "      <td>0.590865</td>\n",
       "      <td>UCI</td>\n",
       "      <td>[64, 128, 241, 336, 475]</td>\n",
       "      <td>SKB_LR</td>\n",
       "      <td>5</td>\n",
       "    </tr>\n",
       "    <tr>\n",
       "      <th>2</th>\n",
       "      <td>{'skb__k': 15}</td>\n",
       "      <td>0.787019</td>\n",
       "      <td>UCI</td>\n",
       "      <td>[48, 64, 105, 128, 241, 323, 336, 338, 378, 38...</td>\n",
       "      <td>SKB_DT</td>\n",
       "      <td>15</td>\n",
       "    </tr>\n",
       "    <tr>\n",
       "      <th>3</th>\n",
       "      <td>{'skb__k': 10}</td>\n",
       "      <td>0.800481</td>\n",
       "      <td>UCI</td>\n",
       "      <td>[48, 64, 105, 128, 241, 336, 338, 378, 442, 475]</td>\n",
       "      <td>SKB_SVC</td>\n",
       "      <td>10</td>\n",
       "    </tr>\n",
       "  </tbody>\n",
       "</table>\n",
       "</div>"
      ],
      "text/plain": [
       "      best_params  best_test_score dataset  \\\n",
       "0  {'skb__k': 10}         0.871154     UCI   \n",
       "1   {'skb__k': 5}         0.590865     UCI   \n",
       "2  {'skb__k': 15}         0.787019     UCI   \n",
       "3  {'skb__k': 10}         0.800481     UCI   \n",
       "\n",
       "                                          featSelect    model  n_featSelect  \n",
       "0   [48, 64, 105, 128, 241, 336, 338, 378, 442, 475]  SKB_KNN            10  \n",
       "1                           [64, 128, 241, 336, 475]   SKB_LR             5  \n",
       "2  [48, 64, 105, 128, 241, 323, 336, 338, 378, 38...   SKB_DT            15  \n",
       "3   [48, 64, 105, 128, 241, 336, 338, 378, 442, 475]  SKB_SVC            10  "
      ]
     },
     "execution_count": 9,
     "metadata": {},
     "output_type": "execute_result"
    }
   ],
   "source": [
    "UCI_results_df"
   ]
  },
  {
   "cell_type": "code",
   "execution_count": 10,
   "metadata": {},
   "outputs": [],
   "source": [
    "UCI_results_df.to_pickle('./data/pickle_data/UCI_bestfeatures_skb')"
   ]
  },
  {
   "cell_type": "markdown",
   "metadata": {},
   "source": [
    "#### Sample 1"
   ]
  },
  {
   "cell_type": "code",
   "execution_count": 14,
   "metadata": {},
   "outputs": [],
   "source": [
    "Sample1_param=({'skb__k': [5,10,15,20]})"
   ]
  },
  {
   "cell_type": "code",
   "execution_count": 15,
   "metadata": {},
   "outputs": [
    {
     "name": "stderr",
     "output_type": "stream",
     "text": [
      "\r",
      "  0%|          | 0/4 [00:00<?, ?it/s]"
     ]
    },
    {
     "name": "stdout",
     "output_type": "stream",
     "text": [
      "./data/pickle_data/Sample1_X_train (7364, 1000) ./data/pickle_data/Sample1_y_train (7364,)\n",
      "Fitting 5 folds for each of 4 candidates, totalling 20 fits\n"
     ]
    },
    {
     "name": "stderr",
     "output_type": "stream",
     "text": [
      "[Parallel(n_jobs=-1)]: Done  20 out of  20 | elapsed:    5.0s finished\n",
      " 25%|██▌       | 1/4 [00:05<00:16,  5.42s/it]"
     ]
    },
    {
     "name": "stdout",
     "output_type": "stream",
     "text": [
      "Fitting 5 folds for each of 4 candidates, totalling 20 fits\n"
     ]
    },
    {
     "name": "stderr",
     "output_type": "stream",
     "text": [
      "[Parallel(n_jobs=-1)]: Done  20 out of  20 | elapsed:    3.7s finished\n",
      " 50%|█████     | 2/4 [00:09<00:09,  4.78s/it]"
     ]
    },
    {
     "name": "stdout",
     "output_type": "stream",
     "text": [
      "Fitting 5 folds for each of 4 candidates, totalling 20 fits\n"
     ]
    },
    {
     "name": "stderr",
     "output_type": "stream",
     "text": [
      "[Parallel(n_jobs=-1)]: Done  20 out of  20 | elapsed:    3.2s finished\n",
      " 75%|███████▌  | 3/4 [00:13<00:04,  4.41s/it]"
     ]
    },
    {
     "name": "stdout",
     "output_type": "stream",
     "text": [
      "Fitting 5 folds for each of 4 candidates, totalling 20 fits\n"
     ]
    },
    {
     "name": "stderr",
     "output_type": "stream",
     "text": [
      "[Parallel(n_jobs=-1)]: Done  20 out of  20 | elapsed:   13.2s finished\n",
      "100%|██████████| 4/4 [00:28<00:00,  7.17s/it]"
     ]
    },
    {
     "name": "stdout",
     "output_type": "stream",
     "text": [
      "CPU times: user 10.6 s, sys: 830 ms, total: 11.4 s\n",
      "Wall time: 28.8 s\n"
     ]
    },
    {
     "name": "stderr",
     "output_type": "stream",
     "text": [
      "\n"
     ]
    }
   ],
   "source": [
    "%%time\n",
    "Sample1_results_df =skb_pipeline('Sample1',Classifiers, Sample1_param)"
   ]
  },
  {
   "cell_type": "code",
   "execution_count": 16,
   "metadata": {},
   "outputs": [
    {
     "data": {
      "text/html": [
       "<div>\n",
       "<table border=\"1\" class=\"dataframe\">\n",
       "  <thead>\n",
       "    <tr style=\"text-align: right;\">\n",
       "      <th></th>\n",
       "      <th>best_params</th>\n",
       "      <th>best_test_score</th>\n",
       "      <th>dataset</th>\n",
       "      <th>featSelect</th>\n",
       "      <th>model</th>\n",
       "      <th>n_featSelect</th>\n",
       "    </tr>\n",
       "  </thead>\n",
       "  <tbody>\n",
       "    <tr>\n",
       "      <th>0</th>\n",
       "      <td>{'skb__k': 15}</td>\n",
       "      <td>0.808554</td>\n",
       "      <td>Sample1</td>\n",
       "      <td>[257, 269, 315, 336, 341, 504, 526, 681, 701, ...</td>\n",
       "      <td>SKB_KNN</td>\n",
       "      <td>15</td>\n",
       "    </tr>\n",
       "    <tr>\n",
       "      <th>1</th>\n",
       "      <td>{'skb__k': 15}</td>\n",
       "      <td>0.647794</td>\n",
       "      <td>Sample1</td>\n",
       "      <td>[257, 269, 315, 336, 341, 504, 526, 681, 701, ...</td>\n",
       "      <td>SKB_LR</td>\n",
       "      <td>15</td>\n",
       "    </tr>\n",
       "    <tr>\n",
       "      <th>2</th>\n",
       "      <td>{'skb__k': 15}</td>\n",
       "      <td>0.722743</td>\n",
       "      <td>Sample1</td>\n",
       "      <td>[257, 269, 315, 336, 341, 504, 526, 681, 701, ...</td>\n",
       "      <td>SKB_DT</td>\n",
       "      <td>15</td>\n",
       "    </tr>\n",
       "    <tr>\n",
       "      <th>3</th>\n",
       "      <td>{'skb__k': 15}</td>\n",
       "      <td>0.767142</td>\n",
       "      <td>Sample1</td>\n",
       "      <td>[257, 269, 315, 336, 341, 504, 526, 681, 701, ...</td>\n",
       "      <td>SKB_SVC</td>\n",
       "      <td>15</td>\n",
       "    </tr>\n",
       "  </tbody>\n",
       "</table>\n",
       "</div>"
      ],
      "text/plain": [
       "      best_params  best_test_score  dataset  \\\n",
       "0  {'skb__k': 15}         0.808554  Sample1   \n",
       "1  {'skb__k': 15}         0.647794  Sample1   \n",
       "2  {'skb__k': 15}         0.722743  Sample1   \n",
       "3  {'skb__k': 15}         0.767142  Sample1   \n",
       "\n",
       "                                          featSelect    model  n_featSelect  \n",
       "0  [257, 269, 315, 336, 341, 504, 526, 681, 701, ...  SKB_KNN            15  \n",
       "1  [257, 269, 315, 336, 341, 504, 526, 681, 701, ...   SKB_LR            15  \n",
       "2  [257, 269, 315, 336, 341, 504, 526, 681, 701, ...   SKB_DT            15  \n",
       "3  [257, 269, 315, 336, 341, 504, 526, 681, 701, ...  SKB_SVC            15  "
      ]
     },
     "execution_count": 16,
     "metadata": {},
     "output_type": "execute_result"
    }
   ],
   "source": [
    "Sample1_results_df "
   ]
  },
  {
   "cell_type": "markdown",
   "metadata": {},
   "source": [
    "#### Sample 2"
   ]
  },
  {
   "cell_type": "code",
   "execution_count": 17,
   "metadata": {},
   "outputs": [
    {
     "name": "stderr",
     "output_type": "stream",
     "text": [
      "\r",
      "  0%|          | 0/4 [00:00<?, ?it/s]"
     ]
    },
    {
     "name": "stdout",
     "output_type": "stream",
     "text": [
      "./data/pickle_data/Sample2_X_train (7325, 1000) ./data/pickle_data/Sample2_y_train (7325,)\n",
      "Fitting 5 folds for each of 4 candidates, totalling 20 fits\n"
     ]
    },
    {
     "name": "stderr",
     "output_type": "stream",
     "text": [
      "[Parallel(n_jobs=-1)]: Done  20 out of  20 | elapsed:    4.7s finished\n",
      " 25%|██▌       | 1/4 [00:05<00:15,  5.14s/it]"
     ]
    },
    {
     "name": "stdout",
     "output_type": "stream",
     "text": [
      "Fitting 5 folds for each of 4 candidates, totalling 20 fits\n"
     ]
    },
    {
     "name": "stderr",
     "output_type": "stream",
     "text": [
      "[Parallel(n_jobs=-1)]: Done  20 out of  20 | elapsed:    3.3s finished\n",
      " 50%|█████     | 2/4 [00:08<00:08,  4.45s/it]"
     ]
    },
    {
     "name": "stdout",
     "output_type": "stream",
     "text": [
      "Fitting 5 folds for each of 4 candidates, totalling 20 fits\n"
     ]
    },
    {
     "name": "stderr",
     "output_type": "stream",
     "text": [
      "[Parallel(n_jobs=-1)]: Done  20 out of  20 | elapsed:    3.1s finished\n",
      " 75%|███████▌  | 3/4 [00:12<00:04,  4.17s/it]"
     ]
    },
    {
     "name": "stdout",
     "output_type": "stream",
     "text": [
      "Fitting 5 folds for each of 4 candidates, totalling 20 fits\n"
     ]
    },
    {
     "name": "stderr",
     "output_type": "stream",
     "text": [
      "[Parallel(n_jobs=-1)]: Done  20 out of  20 | elapsed:   12.9s finished\n",
      "100%|██████████| 4/4 [00:27<00:00,  6.89s/it]"
     ]
    },
    {
     "name": "stdout",
     "output_type": "stream",
     "text": [
      "CPU times: user 10.6 s, sys: 710 ms, total: 11.3 s\n",
      "Wall time: 27.7 s\n"
     ]
    },
    {
     "name": "stderr",
     "output_type": "stream",
     "text": [
      "\n"
     ]
    }
   ],
   "source": [
    "%%time\n",
    "Sample2_results_df =skb_pipeline('Sample2',Classifiers, Sample1_param)"
   ]
  },
  {
   "cell_type": "code",
   "execution_count": 18,
   "metadata": {},
   "outputs": [
    {
     "data": {
      "text/html": [
       "<div>\n",
       "<table border=\"1\" class=\"dataframe\">\n",
       "  <thead>\n",
       "    <tr style=\"text-align: right;\">\n",
       "      <th></th>\n",
       "      <th>best_params</th>\n",
       "      <th>best_test_score</th>\n",
       "      <th>dataset</th>\n",
       "      <th>featSelect</th>\n",
       "      <th>model</th>\n",
       "      <th>n_featSelect</th>\n",
       "    </tr>\n",
       "  </thead>\n",
       "  <tbody>\n",
       "    <tr>\n",
       "      <th>0</th>\n",
       "      <td>{'skb__k': 15}</td>\n",
       "      <td>0.803959</td>\n",
       "      <td>Sample2</td>\n",
       "      <td>[257, 269, 315, 336, 341, 504, 681, 701, 724, ...</td>\n",
       "      <td>SKB_KNN</td>\n",
       "      <td>15</td>\n",
       "    </tr>\n",
       "    <tr>\n",
       "      <th>1</th>\n",
       "      <td>{'skb__k': 15}</td>\n",
       "      <td>0.657201</td>\n",
       "      <td>Sample2</td>\n",
       "      <td>[257, 269, 315, 336, 341, 504, 681, 701, 724, ...</td>\n",
       "      <td>SKB_LR</td>\n",
       "      <td>15</td>\n",
       "    </tr>\n",
       "    <tr>\n",
       "      <th>2</th>\n",
       "      <td>{'skb__k': 15}</td>\n",
       "      <td>0.729147</td>\n",
       "      <td>Sample2</td>\n",
       "      <td>[257, 269, 315, 336, 341, 504, 681, 701, 724, ...</td>\n",
       "      <td>SKB_DT</td>\n",
       "      <td>15</td>\n",
       "    </tr>\n",
       "    <tr>\n",
       "      <th>3</th>\n",
       "      <td>{'skb__k': 15}</td>\n",
       "      <td>0.762594</td>\n",
       "      <td>Sample2</td>\n",
       "      <td>[257, 269, 315, 336, 341, 504, 681, 701, 724, ...</td>\n",
       "      <td>SKB_SVC</td>\n",
       "      <td>15</td>\n",
       "    </tr>\n",
       "  </tbody>\n",
       "</table>\n",
       "</div>"
      ],
      "text/plain": [
       "      best_params  best_test_score  dataset  \\\n",
       "0  {'skb__k': 15}         0.803959  Sample2   \n",
       "1  {'skb__k': 15}         0.657201  Sample2   \n",
       "2  {'skb__k': 15}         0.729147  Sample2   \n",
       "3  {'skb__k': 15}         0.762594  Sample2   \n",
       "\n",
       "                                          featSelect    model  n_featSelect  \n",
       "0  [257, 269, 315, 336, 341, 504, 681, 701, 724, ...  SKB_KNN            15  \n",
       "1  [257, 269, 315, 336, 341, 504, 681, 701, 724, ...   SKB_LR            15  \n",
       "2  [257, 269, 315, 336, 341, 504, 681, 701, 724, ...   SKB_DT            15  \n",
       "3  [257, 269, 315, 336, 341, 504, 681, 701, 724, ...  SKB_SVC            15  "
      ]
     },
     "execution_count": 18,
     "metadata": {},
     "output_type": "execute_result"
    }
   ],
   "source": [
    "Sample2_results_df "
   ]
  },
  {
   "cell_type": "markdown",
   "metadata": {},
   "source": [
    "#### Sample 3"
   ]
  },
  {
   "cell_type": "code",
   "execution_count": 19,
   "metadata": {},
   "outputs": [
    {
     "name": "stderr",
     "output_type": "stream",
     "text": [
      "\r",
      "  0%|          | 0/4 [00:00<?, ?it/s]"
     ]
    },
    {
     "name": "stdout",
     "output_type": "stream",
     "text": [
      "./data/pickle_data/Sample3_X_train (7300, 1000) ./data/pickle_data/Sample3_y_train (7300,)\n",
      "Fitting 5 folds for each of 4 candidates, totalling 20 fits\n"
     ]
    },
    {
     "name": "stderr",
     "output_type": "stream",
     "text": [
      "[Parallel(n_jobs=-1)]: Done  20 out of  20 | elapsed:    4.4s finished\n",
      " 25%|██▌       | 1/4 [00:04<00:14,  4.79s/it]"
     ]
    },
    {
     "name": "stdout",
     "output_type": "stream",
     "text": [
      "Fitting 5 folds for each of 4 candidates, totalling 20 fits\n"
     ]
    },
    {
     "name": "stderr",
     "output_type": "stream",
     "text": [
      "[Parallel(n_jobs=-1)]: Done  20 out of  20 | elapsed:    3.3s finished\n",
      " 50%|█████     | 2/4 [00:08<00:08,  4.26s/it]"
     ]
    },
    {
     "name": "stdout",
     "output_type": "stream",
     "text": [
      "Fitting 5 folds for each of 4 candidates, totalling 20 fits\n"
     ]
    },
    {
     "name": "stderr",
     "output_type": "stream",
     "text": [
      "[Parallel(n_jobs=-1)]: Done  20 out of  20 | elapsed:    3.0s finished\n",
      " 75%|███████▌  | 3/4 [00:11<00:03,  4.00s/it]"
     ]
    },
    {
     "name": "stdout",
     "output_type": "stream",
     "text": [
      "Fitting 5 folds for each of 4 candidates, totalling 20 fits\n"
     ]
    },
    {
     "name": "stderr",
     "output_type": "stream",
     "text": [
      "[Parallel(n_jobs=-1)]: Done  20 out of  20 | elapsed:   12.8s finished\n",
      "100%|██████████| 4/4 [00:26<00:00,  6.68s/it]"
     ]
    },
    {
     "name": "stdout",
     "output_type": "stream",
     "text": [
      "CPU times: user 10.1 s, sys: 810 ms, total: 10.9 s\n",
      "Wall time: 26.9 s\n"
     ]
    },
    {
     "name": "stderr",
     "output_type": "stream",
     "text": [
      "\n"
     ]
    }
   ],
   "source": [
    "%%time\n",
    "Sample3_results_df =skb_pipeline('Sample3',Classifiers, Sample1_param)"
   ]
  },
  {
   "cell_type": "code",
   "execution_count": 20,
   "metadata": {},
   "outputs": [
    {
     "data": {
      "text/html": [
       "<div>\n",
       "<table border=\"1\" class=\"dataframe\">\n",
       "  <thead>\n",
       "    <tr style=\"text-align: right;\">\n",
       "      <th></th>\n",
       "      <th>best_params</th>\n",
       "      <th>best_test_score</th>\n",
       "      <th>dataset</th>\n",
       "      <th>featSelect</th>\n",
       "      <th>model</th>\n",
       "      <th>n_featSelect</th>\n",
       "    </tr>\n",
       "  </thead>\n",
       "  <tbody>\n",
       "    <tr>\n",
       "      <th>0</th>\n",
       "      <td>{'skb__k': 10}</td>\n",
       "      <td>0.811781</td>\n",
       "      <td>Sample3</td>\n",
       "      <td>[269, 315, 341, 681, 701, 736, 769, 808, 829, ...</td>\n",
       "      <td>SKB_KNN</td>\n",
       "      <td>10</td>\n",
       "    </tr>\n",
       "    <tr>\n",
       "      <th>1</th>\n",
       "      <td>{'skb__k': 20}</td>\n",
       "      <td>0.635753</td>\n",
       "      <td>Sample3</td>\n",
       "      <td>[257, 269, 315, 336, 341, 395, 494, 504, 526, ...</td>\n",
       "      <td>SKB_LR</td>\n",
       "      <td>20</td>\n",
       "    </tr>\n",
       "    <tr>\n",
       "      <th>2</th>\n",
       "      <td>{'skb__k': 10}</td>\n",
       "      <td>0.732877</td>\n",
       "      <td>Sample3</td>\n",
       "      <td>[269, 315, 341, 681, 701, 736, 769, 808, 829, ...</td>\n",
       "      <td>SKB_DT</td>\n",
       "      <td>10</td>\n",
       "    </tr>\n",
       "    <tr>\n",
       "      <th>3</th>\n",
       "      <td>{'skb__k': 10}</td>\n",
       "      <td>0.765890</td>\n",
       "      <td>Sample3</td>\n",
       "      <td>[269, 315, 341, 681, 701, 736, 769, 808, 829, ...</td>\n",
       "      <td>SKB_SVC</td>\n",
       "      <td>10</td>\n",
       "    </tr>\n",
       "  </tbody>\n",
       "</table>\n",
       "</div>"
      ],
      "text/plain": [
       "      best_params  best_test_score  dataset  \\\n",
       "0  {'skb__k': 10}         0.811781  Sample3   \n",
       "1  {'skb__k': 20}         0.635753  Sample3   \n",
       "2  {'skb__k': 10}         0.732877  Sample3   \n",
       "3  {'skb__k': 10}         0.765890  Sample3   \n",
       "\n",
       "                                          featSelect    model  n_featSelect  \n",
       "0  [269, 315, 341, 681, 701, 736, 769, 808, 829, ...  SKB_KNN            10  \n",
       "1  [257, 269, 315, 336, 341, 395, 494, 504, 526, ...   SKB_LR            20  \n",
       "2  [269, 315, 341, 681, 701, 736, 769, 808, 829, ...   SKB_DT            10  \n",
       "3  [269, 315, 341, 681, 701, 736, 769, 808, 829, ...  SKB_SVC            10  "
      ]
     },
     "execution_count": 20,
     "metadata": {},
     "output_type": "execute_result"
    }
   ],
   "source": [
    "Sample3_results_df "
   ]
  },
  {
   "cell_type": "markdown",
   "metadata": {},
   "source": [
    "#### Consolidate Sample results"
   ]
  },
  {
   "cell_type": "code",
   "execution_count": 21,
   "metadata": {},
   "outputs": [],
   "source": [
    "Sample_results_df=pd.concat([Sample1_results_df,Sample2_results_df,\\\n",
    "                          Sample3_results_df], axis=0, ignore_index=True)"
   ]
  },
  {
   "cell_type": "code",
   "execution_count": 22,
   "metadata": {},
   "outputs": [],
   "source": [
    "Sample_results_df.to_pickle('./data/pickle_data/Samples_bestfeatures_skb')"
   ]
  },
  {
   "cell_type": "code",
   "execution_count": null,
   "metadata": {},
   "outputs": [],
   "source": []
  }
 ],
 "metadata": {
  "kernelspec": {
   "display_name": "Python 3",
   "language": "python",
   "name": "python3"
  },
  "language_info": {
   "codemirror_mode": {
    "name": "ipython",
    "version": 3
   },
   "file_extension": ".py",
   "mimetype": "text/x-python",
   "name": "python",
   "nbconvert_exporter": "python",
   "pygments_lexer": "ipython3",
   "version": "3.6.2"
  }
 },
 "nbformat": 4,
 "nbformat_minor": 2
}
