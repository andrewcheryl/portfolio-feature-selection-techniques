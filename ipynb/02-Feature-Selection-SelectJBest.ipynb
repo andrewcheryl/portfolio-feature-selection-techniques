{
 "cells": [
  {
   "cell_type": "code",
   "execution_count": 2,
   "metadata": {},
   "outputs": [
    {
     "name": "stdout",
     "output_type": "stream",
     "text": [
      "/home/jovyan/Documents/dsi_plus/Projects/project_3 - Madelon_feature_selection\n"
     ]
    }
   ],
   "source": [
    "cd /home/jovyan/Documents/dsi_plus/Projects/project_3 - Madelon_feature_selection"
   ]
  },
  {
   "cell_type": "code",
   "execution_count": 3,
   "metadata": {},
   "outputs": [],
   "source": [
    "#Import standard modules\n",
    "%run lib/__init__.py\n",
    "%matplotlib inline"
   ]
  },
  {
   "cell_type": "markdown",
   "metadata": {},
   "source": [
    "### Project 3: Madelon Dataset - Feature Selection + Classification\n",
    "\n",
    "### Step 2. Feature Selection - SelectJbest"
   ]
  },
  {
   "cell_type": "markdown",
   "metadata": {},
   "source": [
    "### Select J(oshs's) Best METHOD -  a type of multivariate filter technique\n",
    "\n",
    "Assumptions : \n",
    "* For this very specific model designed for use with the Madelon dataset the assumptions are:-\n",
    "       * for the 'noise' features : there should be low prediction rate as feature values generated randomly\n",
    "       * for the 'informative' features : there should be some level of prediciton from redundant features , but not as strong as for the redundant features\n",
    "       * for the  'redunant' features: there should be a higher prediction rate as they were created from a combination of the other core features. \n",
    "       * In addition assume  a single function used to create all values for each of the redundant features. If each of the redundant feature values  was created from a random combination of informative features then the prediction rate will be low.\n",
    "\n",
    "We should observe  3 different populations in the prediction rates of the features and we will use these  to determine the features to select. Assuming adequate seperation of the popoulations : -\n",
    "    * Reduntant features = The 15 features with the highest scores \n",
    "    * Informative features = The 5 features with scores between the highest 16 and the highest 20."
   ]
  },
  {
   "cell_type": "markdown",
   "metadata": {},
   "source": [
    "Hyperparatmeters : \n",
    "    * Esimator: any regression model can be used. \n",
    "        * We will the RidgeCV Linear Regression model with l2 regularization, and cross fold validation \n",
    "        "
   ]
  },
  {
   "cell_type": "code",
   "execution_count": 4,
   "metadata": {},
   "outputs": [],
   "source": [
    "#Load files names for datasets\n",
    "pickle_files=Pickle_files()\n",
    "datafiles=pickle_files.read_datafiles()"
   ]
  },
  {
   "cell_type": "code",
   "execution_count": 5,
   "metadata": {},
   "outputs": [],
   "source": [
    "def calculate_score_for_feature(X,feature,model):\n",
    "\n",
    "    tmp_X=X.drop(feature , axis=1)\n",
    "    tmp_y=X[feature]\n",
    "    X_train, X_test,y_train,y_test=train_test_split(tmp_X, tmp_y,test_size=.25)\n",
    "    \n",
    "    ss=StandardScaler()\n",
    "    X_train_s=ss.fit_transform(X_train)\n",
    "    X_test_s=ss.transform(X_test)\n",
    "    \n",
    "    regressor=model\n",
    "    regressor.fit(X_train_s,y_train)\n",
    "    \n",
    "    score=regressor.score(X_test_s,y_test)\n",
    "    \n",
    "    return score\n",
    "\n",
    "def mean_score_for_feature(X,feature,model,runs=5):\n",
    "    \n",
    "    score=[]\n",
    "    for _ in range(runs):\n",
    "        score.append(calculate_score_for_feature(X,feature,model))\n",
    "    \n",
    "    return np.mean(score)"
   ]
  },
  {
   "cell_type": "code",
   "execution_count": 6,
   "metadata": {},
   "outputs": [],
   "source": [
    "X=pd.read_pickle(datafiles['UCI'][0])"
   ]
  },
  {
   "cell_type": "code",
   "execution_count": 7,
   "metadata": {},
   "outputs": [
    {
     "name": "stdout",
     "output_type": "stream",
     "text": [
      "CPU times: user 9min 34s, sys: 9min 57s, total: 19min 32s\n",
      "Wall time: 4min 53s\n"
     ]
    }
   ],
   "source": [
    "%%time\n",
    "sjb_results_LR={}\n",
    "for feat in X.columns:\n",
    "    sjb_results_LR[feat]=mean_score_for_feature(X, feat, LinearRegression() )"
   ]
  },
  {
   "cell_type": "code",
   "execution_count": 8,
   "metadata": {},
   "outputs": [
    {
     "data": {
      "text/plain": [
       "<matplotlib.text.Text at 0x7ff226cab320>"
      ]
     },
     "execution_count": 8,
     "metadata": {},
     "output_type": "execute_result"
    },
    {
     "data": {
      "image/png": "[encoded data removed]",
      "text/plain": [
       "<matplotlib.figure.Figure at 0x7ff226c87dd8>"
      ]
     },
     "metadata": {},
     "output_type": "display_data"
    }
   ],
   "source": [
    "len(sjb_results_LR)\n",
    "sjb_results_LR_df=pd.DataFrame(sjb_results_LR, index=['score']).T.sort_values('score', ascending=False)\n",
    "sjb_results_LR_df.plot.kde()\n",
    "plt.xlabel('score')"
   ]
  },
  {
   "cell_type": "code",
   "execution_count": 14,
   "metadata": {},
   "outputs": [
    {
     "data": {
      "text/plain": [
       "<matplotlib.legend.Legend at 0x7ff222bd69b0>"
      ]
     },
     "execution_count": 14,
     "metadata": {},
     "output_type": "execute_result"
    },
    {
     "data": {
      "image/png": "[encoded data removed]",
      "text/plain": [
       "<matplotlib.figure.Figure at 0x7ff222e7cf98>"
      ]
     },
     "metadata": {},
     "output_type": "display_data"
    }
   ],
   "source": [
    "#lets look at 20 highhest Var \n",
    "sns.distplot(sjb_results_LR_df.head(20))\n",
    "plt.axvline(sjb_results_LR_df.iloc[14,0], c='r', ls='--', label='15th highest score')\n",
    "plt.axvline(sjb_results_LR_df.iloc[19,0], c='r', ls='--', label='20th highest score')\n",
    "plt.legend()"
   ]
  },
  {
   "cell_type": "code",
   "execution_count": 23,
   "metadata": {},
   "outputs": [
    {
     "data": {
      "text/html": [
       "<div>\n",
       "<table border=\"1\" class=\"dataframe\">\n",
       "  <thead>\n",
       "    <tr style=\"text-align: right;\">\n",
       "      <th></th>\n",
       "      <th>score</th>\n",
       "    </tr>\n",
       "  </thead>\n",
       "  <tbody>\n",
       "    <tr>\n",
       "      <th>318</th>\n",
       "      <td>0.980392</td>\n",
       "    </tr>\n",
       "    <tr>\n",
       "      <th>451</th>\n",
       "      <td>0.979997</td>\n",
       "    </tr>\n",
       "    <tr>\n",
       "      <th>455</th>\n",
       "      <td>0.979858</td>\n",
       "    </tr>\n",
       "    <tr>\n",
       "      <th>378</th>\n",
       "      <td>0.975512</td>\n",
       "    </tr>\n",
       "    <tr>\n",
       "      <th>48</th>\n",
       "      <td>0.973872</td>\n",
       "    </tr>\n",
       "  </tbody>\n",
       "</table>\n",
       "</div>"
      ],
      "text/plain": [
       "        score\n",
       "318  0.980392\n",
       "451  0.979997\n",
       "455  0.979858\n",
       "378  0.975512\n",
       "48   0.973872"
      ]
     },
     "execution_count": 23,
     "metadata": {},
     "output_type": "execute_result"
    }
   ],
   "source": [
    "Inform_feat=sjb_results_LR_df.iloc[15:20]\n",
    "Inform_feat"
   ]
  },
  {
   "cell_type": "code",
   "execution_count": 22,
   "metadata": {},
   "outputs": [
    {
     "data": {
      "text/html": [
       "<div>\n",
       "<table border=\"1\" class=\"dataframe\">\n",
       "  <thead>\n",
       "    <tr style=\"text-align: right;\">\n",
       "      <th></th>\n",
       "      <th>score</th>\n",
       "    </tr>\n",
       "  </thead>\n",
       "  <tbody>\n",
       "    <tr>\n",
       "      <th>64</th>\n",
       "      <td>0.983029</td>\n",
       "    </tr>\n",
       "    <tr>\n",
       "      <th>105</th>\n",
       "      <td>0.982833</td>\n",
       "    </tr>\n",
       "    <tr>\n",
       "      <th>338</th>\n",
       "      <td>0.982760</td>\n",
       "    </tr>\n",
       "    <tr>\n",
       "      <th>128</th>\n",
       "      <td>0.982569</td>\n",
       "    </tr>\n",
       "    <tr>\n",
       "      <th>472</th>\n",
       "      <td>0.982536</td>\n",
       "    </tr>\n",
       "    <tr>\n",
       "      <th>442</th>\n",
       "      <td>0.982460</td>\n",
       "    </tr>\n",
       "    <tr>\n",
       "      <th>453</th>\n",
       "      <td>0.982417</td>\n",
       "    </tr>\n",
       "    <tr>\n",
       "      <th>493</th>\n",
       "      <td>0.982403</td>\n",
       "    </tr>\n",
       "    <tr>\n",
       "      <th>475</th>\n",
       "      <td>0.982248</td>\n",
       "    </tr>\n",
       "    <tr>\n",
       "      <th>336</th>\n",
       "      <td>0.982207</td>\n",
       "    </tr>\n",
       "    <tr>\n",
       "      <th>28</th>\n",
       "      <td>0.981671</td>\n",
       "    </tr>\n",
       "    <tr>\n",
       "      <th>241</th>\n",
       "      <td>0.981457</td>\n",
       "    </tr>\n",
       "    <tr>\n",
       "      <th>433</th>\n",
       "      <td>0.981202</td>\n",
       "    </tr>\n",
       "    <tr>\n",
       "      <th>281</th>\n",
       "      <td>0.980902</td>\n",
       "    </tr>\n",
       "    <tr>\n",
       "      <th>153</th>\n",
       "      <td>0.980892</td>\n",
       "    </tr>\n",
       "  </tbody>\n",
       "</table>\n",
       "</div>"
      ],
      "text/plain": [
       "        score\n",
       "64   0.983029\n",
       "105  0.982833\n",
       "338  0.982760\n",
       "128  0.982569\n",
       "472  0.982536\n",
       "442  0.982460\n",
       "453  0.982417\n",
       "493  0.982403\n",
       "475  0.982248\n",
       "336  0.982207\n",
       "28   0.981671\n",
       "241  0.981457\n",
       "433  0.981202\n",
       "281  0.980902\n",
       "153  0.980892"
      ]
     },
     "execution_count": 22,
     "metadata": {},
     "output_type": "execute_result"
    }
   ],
   "source": [
    "redun_feat=sjb_results_LR_df.iloc[0:15]\n",
    "redun_feat"
   ]
  },
  {
   "cell_type": "code",
   "execution_count": null,
   "metadata": {},
   "outputs": [],
   "source": []
  }
 ],
 "metadata": {
  "kernelspec": {
   "display_name": "Python 3",
   "language": "python",
   "name": "python3"
  },
  "language_info": {
   "codemirror_mode": {
    "name": "ipython",
    "version": 3
   },
   "file_extension": ".py",
   "mimetype": "text/x-python",
   "name": "python",
   "nbconvert_exporter": "python",
   "pygments_lexer": "ipython3",
   "version": "3.6.2"
  }
 },
 "nbformat": 4,
 "nbformat_minor": 2
}
