{
 "cells": [
  {
   "cell_type": "code",
   "execution_count": 1,
   "metadata": {},
   "outputs": [
    {
     "name": "stdout",
     "output_type": "stream",
     "text": [
      "/home/jovyan/Documents/dsi_plus/Projects/project_3 - Madelon_feature_selection\n"
     ]
    }
   ],
   "source": [
    "cd /home/jovyan/Documents/dsi_plus/Projects/project_3 - Madelon_feature_selection"
   ]
  },
  {
   "cell_type": "code",
   "execution_count": 2,
   "metadata": {},
   "outputs": [],
   "source": [
    "%run lib/__init__.py\n",
    "%matplotlib inline"
   ]
  },
  {
   "cell_type": "markdown",
   "metadata": {},
   "source": [
    "### Postgres DB  - Data Acquisition\n",
    "available from postgres db hosted on AWS instance \n",
    "    - database name = postgres\n",
    "    - user name = postgtres\n",
    "    - table name = madelon\n",
    "    - AWS instance IP =##############\n",
    "    \n",
    "Number of variables/features/attributes: \n",
    "Total Observations = 200,000\n",
    "TotalFeatures = 1000\n",
    "Sample size required to ensure\n",
    "        * 95% CI & 1% margin of error  : 200,000 -> 9,164   =   4.58%\n",
    "        * 90% CI & 1% margin of error   : 200,000 -> 6,506    = 3.25%"
   ]
  },
  {
   "cell_type": "markdown",
   "metadata": {},
   "source": [
    "### LOAD 3 RANDOM SAMPLES \n",
    "\n",
    "Extract 3 random samples of 4.6% of dataset.\n",
    "* Store as :\n",
    "    * Postgres_95_sample1\n",
    "    * Postgres_95_sample1\n",
    "    * Postgres_95_sample3\n",
    "* Pickle to data/pickle_data folder\n",
    "* Reload and check correctly saved"
   ]
  },
  {
   "cell_type": "code",
   "execution_count": 3,
   "metadata": {},
   "outputs": [],
   "source": [
    "def con_cur_to_class_db():\n",
    "    ''' Open connection to postgres database on AWS host'''\n",
    "    con = pg2.connect(host='################',\n",
    "                  dbname='postgres',\n",
    "                  user='postgres')\n",
    "    cur = con.cursor(cursor_factory=RealDictCursor)\n",
    "    return con , cur\n",
    "\n",
    "con, cur =con_cur_to_class_db()"
   ]
  },
  {
   "cell_type": "code",
   "execution_count": 4,
   "metadata": {},
   "outputs": [],
   "source": [
    "pickle_files=[\n",
    "                './data/pickle_data/Postgres_95_sample1',\n",
    "                './data/pickle_data/Postgres_95_sample2',\n",
    "                './data/pickle_data/Postgres_95_sample3'\n",
    "]"
   ]
  },
  {
   "cell_type": "code",
   "execution_count": 5,
   "metadata": {},
   "outputs": [
    {
     "name": "stdout",
     "output_type": "stream",
     "text": [
      "0\n",
      "file ./data/pickle_data/Postgres_95_sample1, shape: (9206, 1001)  , saved correctly: True\n",
      "1\n",
      "file ./data/pickle_data/Postgres_95_sample2, shape: (9157, 1001)  , saved correctly: True\n",
      "2\n",
      "file ./data/pickle_data/Postgres_95_sample3, shape: (9126, 1001)  , saved correctly: True\n",
      "CPU times: user 28.2 s, sys: 3.25 s, total: 31.5 s\n",
      "Wall time: 1min 56s\n"
     ]
    }
   ],
   "source": [
    "%%time\n",
    "for f in range(len(pickle_files)):\n",
    "    \n",
    "    print(f)\n",
    "    cur.execute('SELECT * FROM madelon TABLESAMPLE BERNOULLI(4.6);')  \n",
    "    results_sample = cur.fetchall()\n",
    "    \n",
    " \n",
    "    ts=pd.DataFrame(results_sample)\n",
    "    \n",
    "    ts.set_index('_id', inplace=True)\n",
    "\n",
    "    ts.to_pickle(pickle_files[f])\n",
    "\n",
    "    ts_check=pd.read_pickle(pickle_files[f])\n",
    "\n",
    "    print('file {}, shape: {}  , saved correctly: {}' .format(pickle_files[f] , ts.shape ,ts.equals(ts_check)))"
   ]
  },
  {
   "cell_type": "code",
   "execution_count": 6,
   "metadata": {},
   "outputs": [],
   "source": [
    "con.close()"
   ]
  },
  {
   "cell_type": "code",
   "execution_count": null,
   "metadata": {},
   "outputs": [],
   "source": []
  }
 ],
 "metadata": {
  "kernelspec": {
   "display_name": "Python 3",
   "language": "python",
   "name": "python3"
  },
  "language_info": {
   "codemirror_mode": {
    "name": "ipython",
    "version": 3
   },
   "file_extension": ".py",
   "mimetype": "text/x-python",
   "name": "python",
   "nbconvert_exporter": "python",
   "pygments_lexer": "ipython3",
   "version": "3.6.3"
  }
 },
 "nbformat": 4,
 "nbformat_minor": 2
}
