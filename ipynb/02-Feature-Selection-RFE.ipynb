{
 "cells": [
  {
   "cell_type": "code",
   "execution_count": 2,
   "metadata": {},
   "outputs": [
    {
     "name": "stdout",
     "output_type": "stream",
     "text": [
      "/home/jovyan/Documents/dsi_plus/Projects/project_3 - Madelon_feature_selection\n"
     ]
    }
   ],
   "source": [
    "cd /home/jovyan/Documents/dsi_plus/Projects/project_3 - Madelon_feature_selection"
   ]
  },
  {
   "cell_type": "code",
   "execution_count": 3,
   "metadata": {},
   "outputs": [],
   "source": [
    "#Import standard modules\n",
    "%run lib/__init__.py\n",
    "%matplotlib inline"
   ]
  },
  {
   "cell_type": "markdown",
   "metadata": {},
   "source": [
    "### Project 3: Madelon Dataset - Feature Selection + Classification\n",
    "\n",
    "### Step 2. Feature Selection - RFE (Recursive Feature elimination)\n",
    "\n",
    "Hyperparamters to tune:\n",
    "    * Estimator: LogisticRegression - estimator needs to provide feature importance or coeff\n",
    "        * penalty=l1 . ( l1 regularisation the allows coeffs to go to zero)\n",
    "        * C  - select range of c, small c= high regularisation\n",
    "    * n-features_to_select : No of features to select\n",
    "    \n"
   ]
  },
  {
   "cell_type": "code",
   "execution_count": 4,
   "metadata": {},
   "outputs": [],
   "source": [
    "#Load files names for datasets\n",
    "pickle_files=Pickle_files()\n",
    "datafiles=pickle_files.read_datafiles()"
   ]
  },
  {
   "cell_type": "code",
   "execution_count": 5,
   "metadata": {},
   "outputs": [],
   "source": [
    "#List of classifiers to use for scoring selection\n",
    "Classifiers={'RFE_KNN':KNeighborsClassifier(),'RFE_LR': LogisticRegression(C=100),\\\n",
    "             'RFE_DT': DecisionTreeClassifier(), 'RFE_SVC':SVC()}\n",
    "XClassifiers={'RFE_LR': LogisticRegression(C=100)}"
   ]
  },
  {
   "cell_type": "code",
   "execution_count": 6,
   "metadata": {},
   "outputs": [],
   "source": [
    "def rfe_pipeline(ds,Classifiers, paramG, datafiles=datafiles ):\n",
    "    \n",
    "    X=pd.read_pickle(datafiles[ds][2])\n",
    "    y=pd.read_pickle(datafiles[ds][4])\n",
    "    print(datafiles[ds][2],X.shape, datafiles[ds][4],y.shape)\n",
    "    \n",
    "    \n",
    "    results=[]\n",
    "    \n",
    "    for n,model in tqdm(Classifiers.items()):   \n",
    "       \n",
    "        \n",
    "        pipe=Pipeline(steps=[\n",
    "                                ('scaler' , StandardScaler()),\n",
    "                                ('rfe' , RFE(LogisticRegression(penalty='l1'))),\n",
    "                                ('clf' ,model)\n",
    "                               ])\n",
    "    \n",
    "        param=paramG\n",
    "\n",
    "        grsCV=GridSearchCV(pipe,param,n_jobs=-1, verbose=1,cv=2)\n",
    "        \n",
    "        grsCV.fit(X,y.squeeze())\n",
    "        \n",
    "        feat_flag=grsCV.best_estimator_.named_steps['rfe'].get_support()\n",
    "        \n",
    "        \n",
    "        results_n={ 'dataset' : ds,\n",
    "                    'model'  : n,\n",
    "                    'best_test_score' : grsCV.best_score_,\n",
    "                    'best_params' : grsCV.best_params_ , \n",
    "                    'featSelect' : np.where(feat_flag)[0], \n",
    "                    'n_featSelect' : np.sum(feat_flag)\n",
    "                    }\n",
    "        results.append(results_n)\n",
    "    \n",
    "        \n",
    "    results_df=pd.DataFrame(results)\n",
    "    \n",
    "    return results_df"
   ]
  },
  {
   "cell_type": "markdown",
   "metadata": {},
   "source": [
    "#### UCI Dataset"
   ]
  },
  {
   "cell_type": "code",
   "execution_count": 7,
   "metadata": {},
   "outputs": [],
   "source": [
    "UCI_param=({'rfe__n_features_to_select': [5,10],\n",
    "            'rfe__estimator':[LogisticRegression(C=c) for c in [10,100,1000]]})"
   ]
  },
  {
   "cell_type": "code",
   "execution_count": 8,
   "metadata": {},
   "outputs": [
    {
     "name": "stderr",
     "output_type": "stream",
     "text": [
      "\r",
      "  0%|          | 0/4 [00:00<?, ?it/s]"
     ]
    },
    {
     "name": "stdout",
     "output_type": "stream",
     "text": [
      "./data/pickle_data/UCI_X_train (2080, 500) ./data/pickle_data/UCI_y_train (2080, 1)\n",
      "Fitting 2 folds for each of 6 candidates, totalling 12 fits\n"
     ]
    },
    {
     "name": "stderr",
     "output_type": "stream",
     "text": [
      "[Parallel(n_jobs=-1)]: Done  12 out of  12 | elapsed: 10.0min finished\n",
      " 25%|██▌       | 1/4 [10:45<32:15, 645.30s/it]"
     ]
    },
    {
     "name": "stdout",
     "output_type": "stream",
     "text": [
      "Fitting 2 folds for each of 6 candidates, totalling 12 fits\n"
     ]
    },
    {
     "name": "stderr",
     "output_type": "stream",
     "text": [
      "[Parallel(n_jobs=-1)]: Done  12 out of  12 | elapsed: 22.0min finished\n",
      " 50%|█████     | 2/4 [33:34<33:34, 1007.20s/it]"
     ]
    },
    {
     "name": "stdout",
     "output_type": "stream",
     "text": [
      "Fitting 2 folds for each of 6 candidates, totalling 12 fits\n"
     ]
    },
    {
     "name": "stderr",
     "output_type": "stream",
     "text": [
      "[Parallel(n_jobs=-1)]: Done  12 out of  12 | elapsed: 10.1min finished\n",
      " 75%|███████▌  | 3/4 [44:28<14:49, 889.61s/it] "
     ]
    },
    {
     "name": "stdout",
     "output_type": "stream",
     "text": [
      "Fitting 2 folds for each of 6 candidates, totalling 12 fits\n"
     ]
    },
    {
     "name": "stderr",
     "output_type": "stream",
     "text": [
      "[Parallel(n_jobs=-1)]: Done  12 out of  12 | elapsed: 10.0min finished\n",
      "100%|██████████| 4/4 [55:15<00:00, 828.96s/it]"
     ]
    },
    {
     "name": "stdout",
     "output_type": "stream",
     "text": [
      "CPU times: user 3min 8s, sys: 2.76 s, total: 3min 10s\n",
      "Wall time: 55min 15s\n"
     ]
    },
    {
     "name": "stderr",
     "output_type": "stream",
     "text": [
      "\n"
     ]
    }
   ],
   "source": [
    "%%time\n",
    "UCI_results_df=rfe_pipeline('UCI',Classifiers, UCI_param)"
   ]
  },
  {
   "cell_type": "code",
   "execution_count": 9,
   "metadata": {},
   "outputs": [
    {
     "data": {
      "text/html": [
       "<div>\n",
       "<table border=\"1\" class=\"dataframe\">\n",
       "  <thead>\n",
       "    <tr style=\"text-align: right;\">\n",
       "      <th></th>\n",
       "      <th>best_params</th>\n",
       "      <th>best_test_score</th>\n",
       "      <th>dataset</th>\n",
       "      <th>featSelect</th>\n",
       "      <th>model</th>\n",
       "      <th>n_featSelect</th>\n",
       "    </tr>\n",
       "  </thead>\n",
       "  <tbody>\n",
       "    <tr>\n",
       "      <th>0</th>\n",
       "      <td>{'rfe__estimator': LogisticRegression(C=100, c...</td>\n",
       "      <td>0.849038</td>\n",
       "      <td>UCI</td>\n",
       "      <td>[28, 48, 105, 128, 153, 241, 338, 378, 433, 451]</td>\n",
       "      <td>RFE_KNN</td>\n",
       "      <td>10</td>\n",
       "    </tr>\n",
       "    <tr>\n",
       "      <th>1</th>\n",
       "      <td>{'rfe__estimator': LogisticRegression(C=100, c...</td>\n",
       "      <td>0.597596</td>\n",
       "      <td>UCI</td>\n",
       "      <td>[28, 48, 105, 128, 153, 241, 338, 378, 433, 451]</td>\n",
       "      <td>RFE_LR</td>\n",
       "      <td>10</td>\n",
       "    </tr>\n",
       "    <tr>\n",
       "      <th>2</th>\n",
       "      <td>{'rfe__estimator': LogisticRegression(C=1000, ...</td>\n",
       "      <td>0.778365</td>\n",
       "      <td>UCI</td>\n",
       "      <td>[28, 48, 105, 128, 153, 241, 338, 378, 433, 451]</td>\n",
       "      <td>RFE_DT</td>\n",
       "      <td>10</td>\n",
       "    </tr>\n",
       "    <tr>\n",
       "      <th>3</th>\n",
       "      <td>{'rfe__estimator': LogisticRegression(C=100, c...</td>\n",
       "      <td>0.802404</td>\n",
       "      <td>UCI</td>\n",
       "      <td>[28, 48, 105, 128, 153, 241, 338, 378, 433, 451]</td>\n",
       "      <td>RFE_SVC</td>\n",
       "      <td>10</td>\n",
       "    </tr>\n",
       "  </tbody>\n",
       "</table>\n",
       "</div>"
      ],
      "text/plain": [
       "                                         best_params  best_test_score dataset  \\\n",
       "0  {'rfe__estimator': LogisticRegression(C=100, c...         0.849038     UCI   \n",
       "1  {'rfe__estimator': LogisticRegression(C=100, c...         0.597596     UCI   \n",
       "2  {'rfe__estimator': LogisticRegression(C=1000, ...         0.778365     UCI   \n",
       "3  {'rfe__estimator': LogisticRegression(C=100, c...         0.802404     UCI   \n",
       "\n",
       "                                         featSelect    model  n_featSelect  \n",
       "0  [28, 48, 105, 128, 153, 241, 338, 378, 433, 451]  RFE_KNN            10  \n",
       "1  [28, 48, 105, 128, 153, 241, 338, 378, 433, 451]   RFE_LR            10  \n",
       "2  [28, 48, 105, 128, 153, 241, 338, 378, 433, 451]   RFE_DT            10  \n",
       "3  [28, 48, 105, 128, 153, 241, 338, 378, 433, 451]  RFE_SVC            10  "
      ]
     },
     "execution_count": 9,
     "metadata": {},
     "output_type": "execute_result"
    }
   ],
   "source": [
    "UCI_results_df"
   ]
  },
  {
   "cell_type": "code",
   "execution_count": 10,
   "metadata": {},
   "outputs": [],
   "source": [
    "UCI_results_df.to_pickle('./data/pickle_data/UCI_bestfeatures_rfe')"
   ]
  },
  {
   "cell_type": "markdown",
   "metadata": {},
   "source": [
    "#### Sample 1"
   ]
  },
  {
   "cell_type": "code",
   "execution_count": 14,
   "metadata": {},
   "outputs": [],
   "source": [
    "Sample1_param=({'rfe__n_features_to_select': [5,10],\n",
    "            'rfe__estimator':[LogisticRegression(C=c) for c in [10,100,1000]]})"
   ]
  },
  {
   "cell_type": "code",
   "execution_count": null,
   "metadata": {
    "scrolled": true
   },
   "outputs": [
    {
     "name": "stderr",
     "output_type": "stream",
     "text": [
      "\r",
      "  0%|          | 0/4 [00:00<?, ?it/s]"
     ]
    },
    {
     "name": "stdout",
     "output_type": "stream",
     "text": [
      "./data/pickle_data/Sample1_X_train (7364, 1000) ./data/pickle_data/Sample1_y_train (7364,)\n",
      "Fitting 2 folds for each of 6 candidates, totalling 12 fits\n"
     ]
    }
   ],
   "source": [
    "%%time\n",
    "Sample1_results_df =rfe_pipeline('Sample1',Classifiers, Sample1_param)"
   ]
  },
  {
   "cell_type": "code",
   "execution_count": null,
   "metadata": {},
   "outputs": [],
   "source": [
    "Sample1_results_df "
   ]
  },
  {
   "cell_type": "markdown",
   "metadata": {},
   "source": [
    "#### Sample 2"
   ]
  },
  {
   "cell_type": "code",
   "execution_count": null,
   "metadata": {},
   "outputs": [],
   "source": [
    "Sample2_param=({'rfe__n_features_to_select': [10],\n",
    "            'rfe__estimator':[LogisticRegression(C=c) for c in [100,1000]]})"
   ]
  },
  {
   "cell_type": "code",
   "execution_count": null,
   "metadata": {},
   "outputs": [],
   "source": [
    "%%time\n",
    "Sample2_results_df =rfe_pipeline('Sample2',Classifiers, Sample2_param)"
   ]
  },
  {
   "cell_type": "code",
   "execution_count": null,
   "metadata": {},
   "outputs": [],
   "source": [
    "Sample2_results_df "
   ]
  },
  {
   "cell_type": "markdown",
   "metadata": {},
   "source": [
    "#### Sample 3\n",
    "\n"
   ]
  },
  {
   "cell_type": "code",
   "execution_count": null,
   "metadata": {},
   "outputs": [],
   "source": [
    "%%time\n",
    "Sample3_results_df =rfe_pipeline('Sample3',Classifiers, Sample2_param)"
   ]
  },
  {
   "cell_type": "code",
   "execution_count": null,
   "metadata": {},
   "outputs": [],
   "source": [
    "Sample3_results_df "
   ]
  },
  {
   "cell_type": "markdown",
   "metadata": {},
   "source": [
    "#### Consolidate results for samples"
   ]
  },
  {
   "cell_type": "code",
   "execution_count": null,
   "metadata": {},
   "outputs": [],
   "source": [
    "Sample_results_df=pd.concat([Sample1_results_df,Sample2_results_df,\\\n",
    "                          Sample3_results_df], axis=0, ignore_index=True)"
   ]
  },
  {
   "cell_type": "code",
   "execution_count": null,
   "metadata": {},
   "outputs": [],
   "source": [
    "Sample_results_df.to_pickle('./data/pickle_data/Samples_bestfeatures_rfe')"
   ]
  },
  {
   "cell_type": "code",
   "execution_count": null,
   "metadata": {},
   "outputs": [],
   "source": []
  }
 ],
 "metadata": {
  "kernelspec": {
   "display_name": "Python 3",
   "language": "python",
   "name": "python3"
  },
  "language_info": {
   "codemirror_mode": {
    "name": "ipython",
    "version": 3
   },
   "file_extension": ".py",
   "mimetype": "text/x-python",
   "name": "python",
   "nbconvert_exporter": "python",
   "pygments_lexer": "ipython3",
   "version": "3.6.2"
  }
 },
 "nbformat": 4,
 "nbformat_minor": 2
}
