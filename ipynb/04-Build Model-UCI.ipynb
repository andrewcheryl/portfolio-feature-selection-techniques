{
 "cells": [
  {
   "cell_type": "code",
   "execution_count": 3,
   "metadata": {},
   "outputs": [
    {
     "name": "stdout",
     "output_type": "stream",
     "text": [
      "/home/jovyan/Documents/dsi_plus/Projects/project_3 - Madelon_feature_selection\n"
     ]
    }
   ],
   "source": [
    "cd /home/jovyan/Documents/dsi_plus/Projects/project_3 - Madelon_feature_selection"
   ]
  },
  {
   "cell_type": "code",
   "execution_count": 4,
   "metadata": {},
   "outputs": [],
   "source": [
    "#Import standard modules\n",
    "%run lib/__init__.py\n",
    "%matplotlib inline"
   ]
  },
  {
   "cell_type": "markdown",
   "metadata": {},
   "source": [
    "### Project 3: Madelon Dataset - Feature Selection + Classification\n",
    "\n",
    "    \n",
    "### Step 4. Model implementation  - UCI\n",
    "\n",
    "Best Model\n",
    "\n",
    "Preprocessing:\n",
    "     - select features = []\n",
    "     - Test data has already been de-skewed, any new data would also need to go thourgh Box-Cox transformation ( log(x))\n",
    "     - normalize data using standard scaler\n",
    "     - model using KNeighborsClassifier(n_neighbors=7)"
   ]
  },
  {
   "cell_type": "code",
   "execution_count": 7,
   "metadata": {},
   "outputs": [],
   "source": [
    "pickle_f=Pickle_files()\n",
    "datafiles=pickle_f.read_datafiles()\n",
    "#datafiles"
   ]
  },
  {
   "cell_type": "code",
   "execution_count": 10,
   "metadata": {},
   "outputs": [
    {
     "name": "stdout",
     "output_type": "stream",
     "text": [
      "(2600, 500) (2600, 1)\n",
      "(520, 500) (520, 1)\n"
     ]
    }
   ],
   "source": [
    "ds='UCI'\n",
    "X_train=pd.read_pickle(datafiles[ds][0])\n",
    "y_train=pd.read_pickle(datafiles[ds][1])\n",
    "X_test=pd.read_pickle(datafiles[ds][3])\n",
    "y_test=pd.read_pickle(datafiles[ds][5])\n",
    "\n",
    "print(X_train.shape, y_train.shape)\n",
    "print(X_test.shape, y_test.shape)"
   ]
  },
  {
   "cell_type": "code",
   "execution_count": 36,
   "metadata": {},
   "outputs": [],
   "source": [
    "def best_model(ds, mask):\n",
    "    \n",
    "    \n",
    "    X_train=pd.read_pickle(datafiles[ds][0])\n",
    "    y_train=pd.read_pickle(datafiles[ds][1])\n",
    "    X_test=pd.read_pickle(datafiles[ds][3])\n",
    "    y_test=pd.read_pickle(datafiles[ds][5])\n",
    "    #print(X_train.shape, y_train.shape)\n",
    "    #print(X_test.shape, y_test.shape)\n",
    "    \n",
    "    X_train=X_train[mask]\n",
    "    X_test=X_test[mask]\n",
    "    \n",
    "    print('masked data' ,X_train.shape, X_test.shape)\n",
    "    \n",
    "    pipe=Pipeline(steps=[('scaler' , StandardScaler()),\n",
    "                         ('clf' , KNeighborsClassifier(n_neighbors=7))\n",
    "                            ])\n",
    "     \n",
    "    param=({})\n",
    "    \n",
    "    grsCV=GridSearchCV(pipe,param,n_jobs=-1, verbose=1,\\\n",
    "                           cv=StratifiedShuffleSplit(n_splits=5, test_size=.2))\n",
    "                          \n",
    "    grsCV.fit(X_train,y_train.squeeze())\n",
    "    \n",
    "    test_score=grsCV.score(X_test,y_test.squeeze())\n",
    "    \n",
    "    results=grsCV.cv_results_\n",
    "    \n",
    "    return results , test_score\n"
   ]
  },
  {
   "cell_type": "code",
   "execution_count": 37,
   "metadata": {
    "scrolled": true
   },
   "outputs": [
    {
     "name": "stdout",
     "output_type": "stream",
     "text": [
      "masked data (2600, 21) (520, 21)\n",
      "Fitting 5 folds for each of 1 candidates, totalling 5 fits\n",
      "CPU times: user 130 ms, sys: 40 ms, total: 170 ms\n",
      "Wall time: 937 ms\n"
     ]
    },
    {
     "name": "stderr",
     "output_type": "stream",
     "text": [
      "[Parallel(n_jobs=-1)]: Done   5 out of   5 | elapsed:    0.5s finished\n"
     ]
    }
   ],
   "source": [
    "%%time\n",
    "mask=[ 28,  48,  64, 105, 128, 153, 241, 281, 318, 323, 336, 338, 378, 384, 433, 442, 451, 453, 472, 475, 493]\n",
    "results ,test_score= best_model('UCI', mask)"
   ]
  },
  {
   "cell_type": "code",
   "execution_count": 38,
   "metadata": {},
   "outputs": [
    {
     "data": {
      "text/html": [
       "<div>\n",
       "<table border=\"1\" class=\"dataframe\">\n",
       "  <thead>\n",
       "    <tr style=\"text-align: right;\">\n",
       "      <th></th>\n",
       "      <th>mean_fit_time</th>\n",
       "      <th>mean_score_time</th>\n",
       "      <th>mean_test_score</th>\n",
       "      <th>mean_train_score</th>\n",
       "      <th>params</th>\n",
       "      <th>rank_test_score</th>\n",
       "      <th>split0_test_score</th>\n",
       "      <th>split0_train_score</th>\n",
       "      <th>split1_test_score</th>\n",
       "      <th>split1_train_score</th>\n",
       "      <th>split2_test_score</th>\n",
       "      <th>split2_train_score</th>\n",
       "      <th>split3_test_score</th>\n",
       "      <th>split3_train_score</th>\n",
       "      <th>split4_test_score</th>\n",
       "      <th>split4_train_score</th>\n",
       "      <th>std_fit_time</th>\n",
       "      <th>std_score_time</th>\n",
       "      <th>std_test_score</th>\n",
       "      <th>std_train_score</th>\n",
       "    </tr>\n",
       "  </thead>\n",
       "  <tbody>\n",
       "    <tr>\n",
       "      <th>0</th>\n",
       "      <td>0.010294</td>\n",
       "      <td>0.059617</td>\n",
       "      <td>0.886538</td>\n",
       "      <td>0.921442</td>\n",
       "      <td>{}</td>\n",
       "      <td>1</td>\n",
       "      <td>0.896154</td>\n",
       "      <td>0.920673</td>\n",
       "      <td>0.9</td>\n",
       "      <td>0.921154</td>\n",
       "      <td>0.869231</td>\n",
       "      <td>0.922115</td>\n",
       "      <td>0.871154</td>\n",
       "      <td>0.922596</td>\n",
       "      <td>0.896154</td>\n",
       "      <td>0.920673</td>\n",
       "      <td>0.00443</td>\n",
       "      <td>0.010769</td>\n",
       "      <td>0.013434</td>\n",
       "      <td>0.000781</td>\n",
       "    </tr>\n",
       "  </tbody>\n",
       "</table>\n",
       "</div>"
      ],
      "text/plain": [
       "   mean_fit_time  mean_score_time  mean_test_score  mean_train_score params  \\\n",
       "0       0.010294         0.059617         0.886538          0.921442     {}   \n",
       "\n",
       "   rank_test_score  split0_test_score  split0_train_score  split1_test_score  \\\n",
       "0                1           0.896154            0.920673                0.9   \n",
       "\n",
       "   split1_train_score  split2_test_score  split2_train_score  \\\n",
       "0            0.921154           0.869231            0.922115   \n",
       "\n",
       "   split3_test_score  split3_train_score  split4_test_score  \\\n",
       "0           0.871154            0.922596           0.896154   \n",
       "\n",
       "   split4_train_score  std_fit_time  std_score_time  std_test_score  \\\n",
       "0            0.920673       0.00443        0.010769        0.013434   \n",
       "\n",
       "   std_train_score  \n",
       "0         0.000781  "
      ]
     },
     "execution_count": 38,
     "metadata": {},
     "output_type": "execute_result"
    }
   ],
   "source": [
    "pd.DataFrame(results)"
   ]
  },
  {
   "cell_type": "code",
   "execution_count": 39,
   "metadata": {},
   "outputs": [
    {
     "data": {
      "text/plain": [
       "0.91923076923076918"
      ]
     },
     "execution_count": 39,
     "metadata": {},
     "output_type": "execute_result"
    }
   ],
   "source": [
    "test_score"
   ]
  },
  {
   "cell_type": "code",
   "execution_count": null,
   "metadata": {},
   "outputs": [],
   "source": []
  }
 ],
 "metadata": {
  "kernelspec": {
   "display_name": "Python 3",
   "language": "python",
   "name": "python3"
  },
  "language_info": {
   "codemirror_mode": {
    "name": "ipython",
    "version": 3
   },
   "file_extension": ".py",
   "mimetype": "text/x-python",
   "name": "python",
   "nbconvert_exporter": "python",
   "pygments_lexer": "ipython3",
   "version": "3.6.2"
  }
 },
 "nbformat": 4,
 "nbformat_minor": 2
}
